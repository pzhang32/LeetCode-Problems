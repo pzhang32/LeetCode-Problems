{
  "metadata": {
    "kernelspec": {
      "name": "python",
      "display_name": "Python (Pyodide)",
      "language": "python"
    },
    "language_info": {
      "codemirror_mode": {
        "name": "python",
        "version": 3
      },
      "file_extension": ".py",
      "mimetype": "text/x-python",
      "name": "python",
      "nbconvert_exporter": "python",
      "pygments_lexer": "ipython3",
      "version": "3.8"
    }
  },
  "nbformat_minor": 5,
  "nbformat": 4,
  "cells": [
    {
      "id": "79cd9595-76c3-49d7-9e74-f4f99e85b915",
      "cell_type": "markdown",
      "source": "Given an m x n matrix mat, return an array of all the elements of the array in a diagonal order.",
      "metadata": {}
    },
    {
      "id": "922a39c9-c5e8-40c0-a333-6bbd7e15921e",
      "cell_type": "markdown",
      "source": "method 1: Time Limit Exceeded",
      "metadata": {}
    },
    {
      "id": "87f20cd1-c9f5-4391-8aee-8a10023dfb75",
      "cell_type": "code",
      "source": "class Solution:\n    def findDiagonalOrder(self, mat: List[List[int]]) -> List[int]:\n        m = len(mat)\n        n = len(mat[0])\n        res = []\n        row = 0\n        col = 0\n        i = row + col\n        while i < m + n - 1:\n            if i % 2 != 0:\n                for row in range(m):\n                    for col in range(n):\n                        if row + col == i:\n                            res.append(mat[row][col])\n\n            else:\n                for col in range(n):\n                    for row in range(m):\n                        if row + col == i:\n                            res.append(mat[row][col])\n\n            i += 1\n\n        return res",
      "metadata": {
        "trusted": true
      },
      "outputs": [],
      "execution_count": null
    },
    {
      "id": "a7d4705d-f0c4-4b04-a53a-a0e07f8d4443",
      "cell_type": "markdown",
      "source": "method 2: Accepted",
      "metadata": {}
    },
    {
      "id": "314f39d2-20d4-4447-aa82-5ecb90ac7b9c",
      "cell_type": "code",
      "source": "class Solution:\n    def findDiagonalOrder(self, mat: List[List[int]]) -> List[int]:\n        m = len(mat)\n        n = len(mat[0])\n        res = []\n\n        for i in range(m + n - 1):\n            if i % 2 == 0:\n                row = min(i, m-1)\n                col = i - row\n                while col < n and row >= 0:\n                    res.append(mat[row][col])\n                    row -= 1\n                    col += 1\n\n            else:\n                col = min(i, n-1)\n                row = i - col\n                while row < m and col >= 0:\n                    res.append(mat[row][col])\n                    row += 1\n                    col -= 1\n\n        return res",
      "metadata": {
        "trusted": true
      },
      "outputs": [],
      "execution_count": null
    }
  ]
}