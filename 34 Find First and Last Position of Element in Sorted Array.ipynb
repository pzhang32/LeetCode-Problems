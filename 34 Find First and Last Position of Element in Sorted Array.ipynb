{
 "cells": [
  {
   "cell_type": "markdown",
   "id": "3fc8a487-80d4-4773-a683-be853d5db0fc",
   "metadata": {},
   "source": [
    "Given an array of integers nums sorted in non-decreasing order, find the starting and ending position of a given target value.\r\n",
    "\r\n",
    "If target is not found in the array, return [-1, -1].\r\n",
    "\r\n",
    "You must write an algorithm with O(log n) runtime complexity.\r\n",
    "\r\n",
    " \r\n",
    "\r\n",
    "Example 1:\r\n",
    "\r\n",
    "Input: nums = [5,7,7,8,8,10], target = 8\r\n",
    "Ou\n",
    "tput: [3,4]\r\n",
    "Example 2:\r\n",
    "\r\n",
    "Input: nums = [5,7,7,8,8,10], target = 6\r\n",
    "\n",
    "Output: [-1,-1]\r\n",
    "Example 3:\r\n",
    "\r\n",
    "Input: nums = [], target = 0\r\n",
    "Output: [-1,-1]\r\n"
   ]
  },
  {
   "cell_type": "markdown",
   "id": "03561065-a8c3-4569-87a0-46cb1cf1e971",
   "metadata": {},
   "source": [
    "my method, Runtime 71ms, Beats 81.12%, Memory \n",
    "17.7\r\n",
    ", B\r\n",
    "Be ts\r\n",
    "73.14%"
   ]
  },
  {
   "cell_type": "code",
   "execution_count": null,
   "id": "b89f9b9d-0ea9-47ff-bce1-fec62101b1b6",
   "metadata": {},
   "outputs": [],
   "source": [
    "class Solution:\n",
    "    def searchRange(self, nums: List[int], target: int) -> List[int]:\n",
    "        if nums == []:\n",
    "            return [-1, -1]\n",
    "        \n",
    "        list = []\n",
    "        left, right = 0, len(nums) - 1\n",
    "        while left <= right:\n",
    "            mid = (left + right) // 2\n",
    "            if target <= nums[mid]:\n",
    "                right = mid - 1\n",
    "            elif target > nums[mid]:\n",
    "                left = mid + 1\n",
    "        list.append(left) # left boundry\n",
    "\n",
    "        left, right = 0, len(nums) - 1\n",
    "        while left <= right:\n",
    "            mid = (left + right) // 2\n",
    "            if target < nums[mid]:\n",
    "                right = mid - 1\n",
    "            elif target >= nums[mid]:\n",
    "                left = mid + 1\n",
    "        list.append(right) # right boundry\n",
    "\n",
    "        if list[0] <= list[1]:\n",
    "            return list\n",
    "        else:\n",
    "            return [-1, -1]"
   ]
  },
  {
   "cell_type": "markdown",
   "id": "eddd5aa4-ce3b-4fa7-8776-0de661573a95",
   "metadata": {},
   "source": [
    "better format (using def...) Runtime 67ms, Beats 93.33%, Memory 17.54MB, Beats 99.30%\n",
    "此代码简洁程度高于参考！https://programmercarl.com/0034.%E5%9C%A8%E6%8E%92%E5%BA%8F%E6%95%B0%E7%BB%84%E4%B8%AD%E6%9F%A5%E6%89%BE%E5%85%83%E7%B4%A0%E7%9A%84%E7%AC%AC%E4%B8%80%E4%B8%AA%E5%92%8C%E6%9C%80%E5%90%8E%E4%B8%80%E4%B8%AA%E4%BD%8D%E7%BD%AE.html#%E6%80%9D%E8%B7%AF"
   ]
  },
  {
   "cell_type": "code",
   "execution_count": null,
   "id": "401a439d-67cf-4a14-95e1-e8cac7161699",
   "metadata": {},
   "outputs": [],
   "source": [
    "class Solution:\n",
    "    def searchRange(self, nums: List[int], target: int) -> List[int]:\n",
    "        #if nums == []:\n",
    "            #return [-1, -1] # 这两行代码可以去掉！！！\n",
    "        \n",
    "        left = self.findLeft(nums, target)\n",
    "        right = self.findRight(nums, target)\n",
    "\n",
    "        if left <= right:\n",
    "            return [left, right]\n",
    "        else:\n",
    "            return [-1, -1]\n",
    "\n",
    "    def findLeft(self, nums, target):\n",
    "        left, right = 0, len(nums) - 1\n",
    "        while left <= right:\n",
    "            mid = (left + right) // 2\n",
    "            if target <= nums[mid]:\n",
    "                right = mid - 1\n",
    "            elif target > nums[mid]:\n",
    "                left = mid + 1\n",
    "        return left # left boundry\n",
    "\n",
    "    def findRight(self, nums, target):\n",
    "        left, right = 0, len(nums) - 1\n",
    "        while left <= right:\n",
    "            mid = (left + right) // 2\n",
    "            if target < nums[mid]:\n",
    "                right = mid - 1\n",
    "            elif target >= nums[mid]:\n",
    "                left = mid + 1\n",
    "        return right # right boundry\n"
   ]
  },
  {
   "cell_type": "code",
   "execution_count": null,
   "id": "4acb7a64-4627-46d5-ab06-8d85b6e381e3",
   "metadata": {},
   "outputs": [],
   "source": []
  }
 ],
 "metadata": {
  "kernelspec": {
   "display_name": "Python 3 (ipykernel)",
   "language": "python",
   "name": "python3"
  },
  "language_info": {
   "codemirror_mode": {
    "name": "ipython",
    "version": 3
   },
   "file_extension": ".py",
   "mimetype": "text/x-python",
   "name": "python",
   "nbconvert_exporter": "python",
   "pygments_lexer": "ipython3",
   "version": "3.11.7"
  }
 },
 "nbformat": 4,
 "nbformat_minor": 5
}
