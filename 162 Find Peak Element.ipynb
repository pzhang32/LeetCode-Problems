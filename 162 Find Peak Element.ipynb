{
 "cells": [
  {
   "cell_type": "markdown",
   "id": "b6f330c8-e985-41a9-ae84-ab8d0ec851a7",
   "metadata": {},
   "source": [
    "A peak element is an element that is strictly greater than its neighbors.\n",
    "\n",
    "Given a 0-indexed integer array nums, find a peak element, and return its index. If the array contains multiple peaks, return the index to any of the peaks.\n",
    "\n",
    "You may imagine that nums[-1] = nums[n] = -∞. In other words, an element is always considered to be strictly greater than a neighbor that is outside the array.\n",
    "\n",
    "You must write an algorithm that runs in O(log n) time.\n",
    "\n",
    " \n",
    "\n",
    "Example 1:\n",
    "\n",
    "Input: nums = [1,2,3,1]\n",
    "Output: 2\n",
    "Explanation: 3 is a peak element and your function should return the index number 2.\n",
    "\n",
    "Example 2:\n",
    "\n",
    "Input: nums = [1,2,1,3,5,6,4]\n",
    "Output: 5\n",
    "Explanation: Your function can return either index number 1 where the peak element is 2, or index number 5 where the peak element is 6."
   ]
  },
  {
   "cell_type": "markdown",
   "id": "64112ae0-e1f1-409d-a808-61d2e6f5d36b",
   "metadata": {},
   "source": [
    "my method, runtime 47ms, memory 16.60mb"
   ]
  },
  {
   "cell_type": "code",
   "execution_count": null,
   "id": "3c01703e-93ca-4f80-8847-137dba5ceccd",
   "metadata": {},
   "outputs": [],
   "source": [
    "class Solution:\n",
    "    def findPeakElement(self, nums: List[int]) -> int:\n",
    "        if len(nums) == 1:\n",
    "            return 0\n",
    "        if len(nums) == 2:\n",
    "            if nums[0] > nums[1]:\n",
    "                return 0\n",
    "            else:\n",
    "                return 1\n",
    "        if nums[0] > nums[1]:\n",
    "            return 0\n",
    "        if nums[-1] > nums[-2]:\n",
    "            return len(nums)-1\n",
    "        left = 0\n",
    "        right = len(nums)-1\n",
    "        while left is not right:\n",
    "            mid = (left + right)//2\n",
    "            if nums[mid] > nums[mid+1] and nums[mid] > nums[mid-1]:\n",
    "                return mid\n",
    "            elif nums[mid] > nums[mid+1]:\n",
    "                right = mid\n",
    "            else:\n",
    "                left = mid + 1\n",
    "        return mid #这里把 mid 改成 left 或 right 即可变成下面的方法"
   ]
  },
  {
   "cell_type": "markdown",
   "id": "78965243-5edc-4ace-b274-1023a5f331cc",
   "metadata": {},
   "source": [
    "method 2, https://www.bilibili.com/read/cv8890399/"
   ]
  },
  {
   "cell_type": "code",
   "execution_count": null,
   "id": "70f0b79d-f79d-4b0f-b560-c598130b09e2",
   "metadata": {},
   "outputs": [],
   "source": [
    "class Solution:\n",
    "    def findPeakElement(self, nums: List[int]) -> int:\n",
    "        l = 0\n",
    "        r = len(nums) - 1\n",
    "        while l < r:\n",
    "            mid = (l + r)//2\n",
    "            if nums[mid] > nums[mid+1]:\n",
    "                r = mid\n",
    "            else:\n",
    "                l = mid + 1\n",
    "        return l # return r or l both OK, but return r has shorter runtime"
   ]
  }
 ],
 "metadata": {
  "kernelspec": {
   "display_name": "Python 3 (ipykernel)",
   "language": "python",
   "name": "python3"
  },
  "language_info": {
   "codemirror_mode": {
    "name": "ipython",
    "version": 3
   },
   "file_extension": ".py",
   "mimetype": "text/x-python",
   "name": "python",
   "nbconvert_exporter": "python",
   "pygments_lexer": "ipython3",
   "version": "3.11.7"
  }
 },
 "nbformat": 4,
 "nbformat_minor": 5
}
