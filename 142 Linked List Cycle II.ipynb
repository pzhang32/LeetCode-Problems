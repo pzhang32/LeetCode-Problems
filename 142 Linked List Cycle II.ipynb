{
 "cells": [
  {
   "cell_type": "markdown",
   "id": "6e998da3-19cb-4d0c-a174-f22a9ae46904",
   "metadata": {},
   "source": [
    "Given the head of a linked list, return the node where the cycle begins. If there is no cycle, return null.\r\n",
    "\r\n",
    "There is a cycle in a linked list if there is some node in the list that can be reached again by continuously following the next pointer. Internally, pos is used to denote the index of the node that tail's next pointer is connected to (0-indexed). It is -1 if there is no cycle. Note that pos is not passed as a parameter.\r\n",
    "\r\n",
    "Do not modify the linked list.\r\n",
    "\r\n",
    " \r\n",
    "\r\n",
    "Example 1:\r\n",
    "\r\n",
    "\r\n",
    "Input: head = [3,2,0,-4], pos = 1\r\n",
    "Output: tail connects to node index 1\r\n",
    "Explanation: There is a cycle in the linked list, where tail connects to the second node.\r\n",
    "Example 2:\r\n",
    "\r\n",
    "\r\n",
    "Input: head = [1,2], pos = 0\r\n",
    "Output: tail connects to node index 0\r\n",
    "Explanation: There is a cycle in the linked list, where tail connects to the first node.\r\n",
    "Example 3:\r\n",
    "\r\n",
    "\r\n",
    "Input: head = [1], pos = -1\r\n",
    "Output: no cycle\r\n",
    "Explanation: There is no cycle in the linked list."
   ]
  },
  {
   "cell_type": "code",
   "execution_count": null,
   "id": "6ee4423b-1e1b-4020-ac4a-2bf43116eae5",
   "metadata": {},
   "outputs": [],
   "source": [
    "# Definition for singly-linked list.\n",
    "# class ListNode:\n",
    "#     def __init__(self, x):\n",
    "#         self.val = x\n",
    "#         self.next = None\n",
    "\n",
    "class Solution:\n",
    "    def detectCycle(self, head: Optional[ListNode]) -> Optional[ListNode]:\n",
    "        if head == None: # 如果下面的 while 循环加上 fast != None 的判断\n",
    "            return None # 则这里就不需要进行 if head == None 的判断\n",
    "\n",
    "        fast = head\n",
    "        slow = head\n",
    "        isCycle = 0\n",
    "        while fast.next and fast.next.next: \n",
    "            fast = fast.next.next\n",
    "            slow = slow.next\n",
    "            if fast == slow:\n",
    "                isCycle = 1\n",
    "                break\n",
    "\n",
    "        if isCycle == 1:\n",
    "            start = head\n",
    "            while start != slow:\n",
    "                start = start.next\n",
    "                slow = slow.next\n",
    "            return start\n",
    "        else:\n",
    "            return None"
   ]
  },
  {
   "cell_type": "code",
   "execution_count": null,
   "id": "1a9cb27b-d5d3-4578-a841-ba73fc5e88f9",
   "metadata": {},
   "outputs": [],
   "source": [
    "集合法\n",
    "https://programmercarl.com/0142.%E7%8E%AF%E5%BD%A2%E9%93%BE%E8%A1%A8II.html#%E5%85%B6%E4%BB%96%E8%AF%AD%E8%A8%80%E7%89%88%E6%9C%AC\n",
    "\n",
    "快慢指针的数学原理比较难懂，用集合法容易且代码简洁"
   ]
  },
  {
   "cell_type": "code",
   "execution_count": null,
   "id": "0da97528-8aea-41e1-ab54-085e178799ad",
   "metadata": {},
   "outputs": [],
   "source": [
    "# Definition for singly-linked list.\n",
    "# class ListNode:\n",
    "#     def __init__(self, x):\n",
    "#         self.val = x\n",
    "#         self.next = None\n",
    "\n",
    "\n",
    "class Solution:\n",
    "    def detectCycle(self, head: ListNode) -> ListNode:\n",
    "        visited = set()\n",
    "        \n",
    "        while head:\n",
    "            if head in visited:\n",
    "                return head\n",
    "            visited.add(head)\n",
    "            head = head.next\n",
    "        \n",
    "        return None"
   ]
  }
 ],
 "metadata": {
  "kernelspec": {
   "display_name": "Python 3 (ipykernel)",
   "language": "python",
   "name": "python3"
  },
  "language_info": {
   "codemirror_mode": {
    "name": "ipython",
    "version": 3
   },
   "file_extension": ".py",
   "mimetype": "text/x-python",
   "name": "python",
   "nbconvert_exporter": "python",
   "pygments_lexer": "ipython3",
   "version": "3.11.7"
  }
 },
 "nbformat": 4,
 "nbformat_minor": 5
}
