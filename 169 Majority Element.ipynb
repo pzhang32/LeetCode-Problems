{
 "cells": [
  {
   "cell_type": "markdown",
   "id": "1bfd708a-3e87-4381-ba06-d007acdf6d64",
   "metadata": {},
   "source": [
    "Given an array nums of size n, return the majority element.\r\n",
    "\r\n",
    "The majority element is the element that appears more than ⌊n / 2⌋ times. You may assume that the majority element always exists in the array.\r\n",
    "\r\n",
    " \r\n",
    "\r\n",
    "Example 1:\r\n",
    "\r\n",
    "Input: nums = [3,2,3]\r\n",
    "Output: 3\r\n",
    "Example 2:\r\n",
    "\r\n",
    "Input: nums = [2,2,1,1,1,2,2]\r\n",
    "Output: 2\r\n",
    " "
   ]
  },
  {
   "cell_type": "markdown",
   "id": "deb476f1-6dd4-4189-b057-0fb37577ece3",
   "metadata": {},
   "source": [
    "my method, runtime 172ms, memory 17.94mb\n",
    "个人不太认可饲养员关于 divide & conquer 的方法"
   ]
  },
  {
   "cell_type": "code",
   "execution_count": null,
   "id": "22fe6c41-5b8c-4ac5-99c0-876187070599",
   "metadata": {},
   "outputs": [],
   "source": [
    "class Solution:\n",
    "    def majorityElement(self, nums: List[int]) -> int:\n",
    "        if nums == []:\n",
    "            return 0\n",
    "        mapping = {}\n",
    "        for num in nums:\n",
    "            if num not in mapping:\n",
    "                mapping.update({num:1})\n",
    "            else:\n",
    "                mapping[num] += 1\n",
    "            if mapping[num] > len(nums)//2:\n",
    "                return num\n"
   ]
  },
  {
   "cell_type": "markdown",
   "id": "8ad1fe34-bff0-46bf-9cb2-6bc79cdd9a66",
   "metadata": {},
   "source": [
    "method 2"
   ]
  },
  {
   "cell_type": "code",
   "execution_count": null,
   "id": "e5867dda-b419-424e-91d0-6e2984839866",
   "metadata": {},
   "outputs": [],
   "source": [
    "class Solution:\n",
    "    def majorityElement(self, nums: List[int]) -> int:\n",
    "        nums.sort()\n",
    "        return nums[len(nums)//2]"
   ]
  }
 ],
 "metadata": {
  "kernelspec": {
   "display_name": "Python 3 (ipykernel)",
   "language": "python",
   "name": "python3"
  },
  "language_info": {
   "codemirror_mode": {
    "name": "ipython",
    "version": 3
   },
   "file_extension": ".py",
   "mimetype": "text/x-python",
   "name": "python",
   "nbconvert_exporter": "python",
   "pygments_lexer": "ipython3",
   "version": "3.11.7"
  }
 },
 "nbformat": 4,
 "nbformat_minor": 5
}
