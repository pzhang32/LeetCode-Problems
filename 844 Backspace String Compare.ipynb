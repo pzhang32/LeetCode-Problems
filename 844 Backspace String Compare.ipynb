{
 "cells": [
  {
   "cell_type": "markdown",
   "id": "a5ebf7aa-33f4-4ddd-a084-f7aa48176a00",
   "metadata": {},
   "source": [
    "Given two strings s and t, return true if they are equal when both are typed into empty text editors. '#' means a backspace character.\n",
    "\n",
    "Note that after backspacing an empty text, the text will continue empty.\n",
    "\n",
    " \n",
    "\n",
    "Example 1:\n",
    "\n",
    "Input: s = \"ab#c\", t = \"ad#c\"\n",
    "Output: true\n",
    "Explanation: Both s and t become \"ac\".\n",
    "Example 2:\n",
    "\n",
    "Input: s = \"ab##\", t = \"c#d#\"\n",
    "Output: true\n",
    "Explanation: Both s and t become \"\".\n",
    "Example 3:\n",
    "\n",
    "Input: s = \"a#c\", t = \"b\"\n",
    "Output: false\n",
    "Explanation: s becomes \"c\" while t becomes \"b\".\n",
    " "
   ]
  },
  {
   "cell_type": "markdown",
   "id": "c4185d4d-c165-4c33-a331-bdea9118996d",
   "metadata": {},
   "source": [
    "Runtime 35ms, Beats 57.62%, Memory 16.36MB, Beats 94.39%"
   ]
  },
  {
   "cell_type": "code",
   "execution_count": null,
   "id": "90502720-e68e-441a-abfd-f19dbf471932",
   "metadata": {},
   "outputs": [],
   "source": [
    "class Solution:\n",
    "    def backspaceCompare(self, s: str, t: str) -> bool:\n",
    "        s_list = self.transform(s)\n",
    "        t_list = self.transform(t)\n",
    "        if s_list == t_list:\n",
    "            return True\n",
    "        else:\n",
    "            return False\n",
    "\n",
    "    def transform(self, s):\n",
    "        s_list = list(s)\n",
    "        fast = 0\n",
    "        slow = 0\n",
    "        for fast in range(len(s_list)):\n",
    "            if s_list[fast] != '#':\n",
    "                s_list[slow] = s_list[fast]\n",
    "                slow += 1\n",
    "            else:\n",
    "                if slow > 0:\n",
    "                    slow -= 1\n",
    "                \n",
    "        return s_list[0:slow]"
   ]
  }
 ],
 "metadata": {
  "kernelspec": {
   "display_name": "Python 3 (ipykernel)",
   "language": "python",
   "name": "python3"
  },
  "language_info": {
   "codemirror_mode": {
    "name": "ipython",
    "version": 3
   },
   "file_extension": ".py",
   "mimetype": "text/x-python",
   "name": "python",
   "nbconvert_exporter": "python",
   "pygments_lexer": "ipython3",
   "version": "3.11.7"
  }
 },
 "nbformat": 4,
 "nbformat_minor": 5
}
