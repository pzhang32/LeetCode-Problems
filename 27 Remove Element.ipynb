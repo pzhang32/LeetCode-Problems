{
 "cells": [
  {
   "cell_type": "markdown",
   "id": "ef55945f-d33b-4bb1-86ea-f7f8e7e4b20c",
   "metadata": {},
   "source": [
    "Given an integer array nums and an integer val, remove all occurrences of val in nums in-place. The order of the elements may be changed. Then return the number of elements in nums which are not equal to val.\r\n",
    "\r\n",
    "Consider the number of elements in nums which are not equal to val be k, to get accepted, you need to do the following things:\r\n",
    "\r\n",
    "Change the array nums such that the first k elements of nums contain the elements which are not equal to val. The remaining elements of nums are not important as well as the size of nums.\r\n",
    "Return k.\r\n",
    "Custom Judge:\r\n",
    "\r\n",
    "The judge will test your solution with the following code:\r\n",
    "\r\n",
    "int[] nums = [...]; // Input array\r\n",
    "int val = ...; // Value to remove\r\n",
    "int[] expectedNums = [...]; // The expected answer with correct length.\r\n",
    "                            // It is sorted with no values equaling val.\r\n",
    "\r\n",
    "int k = removeElement(nums, val); // Calls your implementation\r\n",
    "\r\n",
    "assert k == expectedNums.length;\r\n",
    "sort(nums, 0, k); // Sort the first k elements of nums\r\n",
    "for (int i = 0; i < actualLength; i++) {\r\n",
    "    assert nums[i] == expectedNums[i];\r\n",
    "}\r\n",
    "If all assertions pass, then your solution will be accepted.\r\n",
    "\r\n",
    " \r\n",
    "\r\n",
    "Example 1:\r\n",
    "\r\n",
    "Input: nums = [3,2,2,3], val = 3\r\n",
    "Output: 2, nums = [2,2,_,_]\r\n",
    "Explanation: Your function should return k = 2, with the first two elements of nums being 2.\r\n",
    "It does not matter what you leave beyond the returned k (hence they are underscores).\r\n",
    "Example 2:\r\n",
    "\r\n",
    "Input: nums = [0,1,2,2,3,0,4,2], val = 2\r\n",
    "Output: 5, nums = [0,1,4,0,3,_,_,_]\r\n",
    "Explanation: Your function should return k = 5, with the first five elements of nums containing 0, 0, 1, 3, and 4.\r\n",
    "Note that the five elements can be returned in any order.\r\n",
    "It does not matter what you leave beyond the returned k (hence they are underscores).\r\n",
    " "
   ]
  },
  {
   "cell_type": "markdown",
   "id": "985c5e25-f6e3-4cd5-a510-9c5db8ecf23d",
   "metadata": {},
   "source": [
    "my method, runtime 34 ms, memory 16.42 mb"
   ]
  },
  {
   "cell_type": "code",
   "execution_count": null,
   "id": "a8dc41f3-02c5-448c-abe6-8ed4e2fd0224",
   "metadata": {},
   "outputs": [],
   "source": [
    "class Solution:\n",
    "    def removeElement(self, nums: List[int], val: int) -> int: \n",
    "        i = 0\n",
    "        j = len(nums)-1\n",
    "        while i <= j:\n",
    "            while nums[j] == val:\n",
    "                j -= 1\n",
    "                if j < i:\n",
    "                    return i\n",
    "            \n",
    "            if nums[i] == val:\n",
    "                temp = nums[i]\n",
    "                nums[i] = nums[j]\n",
    "                nums[j] = temp\n",
    "                j -= 1\n",
    "                i += 1\n",
    "            if nums[i] != val:\n",
    "                i += 1\n",
    "            \n",
    "        return i"
   ]
  },
  {
   "cell_type": "markdown",
   "id": "ee0512f4-2d26-49fe-bffa-49cf8f617613",
   "metadata": {},
   "source": [
    "method 2 https://www.bilibili.com/video/BV1sy4y1q79M?p=9&vd_source=bd66a16f3258aa87d3cc4daf025b67ef\n",
    "runtime 32 ms, memory 16.43 mb"
   ]
  },
  {
   "cell_type": "code",
   "execution_count": null,
   "id": "29b2b375-1f8c-476f-97c3-ba17964ec792",
   "metadata": {},
   "outputs": [],
   "source": [
    "class Solution:\n",
    "    def removeElement(self, nums: List[int], val: int) -> int:\n",
    "        \n",
    "        i = 0\n",
    "        j = len(nums)-1\n",
    "\n",
    "        if len(nums) == 0:\n",
    "            return i\n",
    "        \n",
    "        while i < j:\n",
    "            while i < j and nums[i] != val:\n",
    "                i += 1\n",
    "            while i < j and nums[j] == val:\n",
    "                j -= 1\n",
    "            temp = nums[i]\n",
    "            nums[i] = nums[j]\n",
    "            nums[j] = temp\n",
    "\n",
    "        if nums[i] == val:\n",
    "            return i\n",
    "        else:\n",
    "            return i + 1\n"
   ]
  }
 ],
 "metadata": {
  "kernelspec": {
   "display_name": "Python 3 (ipykernel)",
   "language": "python",
   "name": "python3"
  },
  "language_info": {
   "codemirror_mode": {
    "name": "ipython",
    "version": 3
   },
   "file_extension": ".py",
   "mimetype": "text/x-python",
   "name": "python",
   "nbconvert_exporter": "python",
   "pygments_lexer": "ipython3",
   "version": "3.11.7"
  }
 },
 "nbformat": 4,
 "nbformat_minor": 5
}
