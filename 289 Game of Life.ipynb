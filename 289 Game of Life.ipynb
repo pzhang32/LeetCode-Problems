{
  "metadata": {
    "kernelspec": {
      "name": "python",
      "display_name": "Python (Pyodide)",
      "language": "python"
    },
    "language_info": {
      "codemirror_mode": {
        "name": "python",
        "version": 3
      },
      "file_extension": ".py",
      "mimetype": "text/x-python",
      "name": "python",
      "nbconvert_exporter": "python",
      "pygments_lexer": "ipython3",
      "version": "3.8"
    }
  },
  "nbformat_minor": 5,
  "nbformat": 4,
  "cells": [
    {
      "id": "d9d4036e-a280-453d-ae4b-a6ce52ba2aa9",
      "cell_type": "code",
      "source": "class Solution:\n    def gameOfLife(self, board: List[List[int]]) -> None:\n        \"\"\"\n        Do not return anything, modify board in-place instead.\n        \"\"\"\n        row = len(board)\n        col = len(board[0])\n\n        temp_board = [[0 for j in range(len(board[0]) + 2)] for i in range(len(board) + 2)]\n\n        for i in range(row):\n            for j in range(col):\n                temp_board[i+1][j+1] = board[i][j]\n\n        for i in range(1, row+1):\n            for j in range(1, col+1):\n                sum = (temp_board[i-1][j-1] + temp_board[i-1][j] + temp_board[i-1][j+1] +\n                       temp_board[i][j-1] + temp_board[i][j+1] +\n                      temp_board[i+1][j-1] + temp_board[i+1][j] + temp_board[i+1][j+1])\n                if temp_board[i][j] == 1 and sum < 2:\n                    board[i-1][j-1] = 0\n                elif temp_board[i][j] == 1 and (sum == 2 or sum == 3):\n                    board[i-1][j-1] = 1\n                elif temp_board[i][j] == 1 and sum > 3:\n                    board[i-1][j-1] = 0\n                elif temp_board[i][j] == 0 and sum == 3:\n                    board[i-1][j-1] = 1",
      "metadata": {
        "trusted": true
      },
      "outputs": [],
      "execution_count": null
    },
    {
      "id": "2f2a135b-5da5-45d9-a619-d7b39c40c2cb",
      "cell_type": "code",
      "source": "board = [[0,1,0],[0,0,1],[1,1,1],[0,0,0]]\n\nrow = len(board)\ncol = len(board[0])\n\ntemp_board = [[0 for j in range(len(board[0]) + 2)] for i in range(len(board) + 2)]\n\nfor i in range(row):\n    for j in range(col):\n        temp_board[i+1][j+1] = board[i][j]\n\nprint(temp_board)",
      "metadata": {
        "trusted": true
      },
      "outputs": [
        {
          "name": "stdout",
          "output_type": "stream",
          "text": "[[0, 0, 0, 0, 0], [0, 0, 1, 0, 0], [0, 0, 0, 1, 0], [0, 1, 1, 1, 0], [0, 0, 0, 0, 0], [0, 0, 0, 0, 0]]\n"
        }
      ],
      "execution_count": 2
    },
    {
      "id": "0e57077e-9a0a-40e2-a117-98e3d992be71",
      "cell_type": "code",
      "source": "",
      "metadata": {
        "trusted": true
      },
      "outputs": [],
      "execution_count": null
    }
  ]
}