{
 "cells": [
  {
   "cell_type": "markdown",
   "id": "ddc7da4d-e4f6-4046-a328-a39203da3563",
   "metadata": {},
   "source": [
    "You are given an array people where people[i] is the weight of the ith person, and an infinite number of boats where each boat can carry a maximum weight of limit. Each boat carries at most two people at the same time, provided the sum of the weight of those people is at most limit.\r\n",
    "\r\n",
    "Return the minimum number of boats to carry every given person.\r\n",
    "\r\n",
    " \r\n",
    "\r\n",
    "Example 1:\r\n",
    "\r\n",
    "Input: people = [1,2], limit = 3\r\n",
    "Output: 1\r\n",
    "Explanation: 1 boat (1, 2)\r\n",
    "Example 2:\r\n",
    "\r\n",
    "Input: people = [3,2,2,1], limit = 3\r\n",
    "Output: 3\r\n",
    "Explanation: 3 boats (1, 2), (2) and (3)\r\n",
    "Example 3:\r\n",
    "\r\n",
    "Input: people = [3,5,3,4], limit = 5\r\n",
    "Output: 4\r\n",
    "Explanation: 4 boats (3), (3), (4), (5)\r\n",
    " "
   ]
  },
  {
   "cell_type": "markdown",
   "id": "88c27ab8-9d97-4173-b8c0-a38591302045",
   "metadata": {},
   "source": [
    "my method, runtime 370ms, memory 23.36mb"
   ]
  },
  {
   "cell_type": "code",
   "execution_count": 1,
   "id": "519e5be3-bf42-43e1-949a-0febda46ce2a",
   "metadata": {},
   "outputs": [
    {
     "ename": "SyntaxError",
     "evalue": "incomplete input (3129757416.py, line 7)",
     "output_type": "error",
     "traceback": [
      "\u001b[1;36m  Cell \u001b[1;32mIn[1], line 7\u001b[1;36m\u001b[0m\n\u001b[1;33m    while i < j:\u001b[0m\n\u001b[1;37m                ^\u001b[0m\n\u001b[1;31mSyntaxError\u001b[0m\u001b[1;31m:\u001b[0m incomplete input\n"
     ]
    }
   ],
   "source": [
    "class Solution:\n",
    "    def numRescueBoats(self, people: List[int], limit: int) -> int:\n",
    "        people.sort()\n",
    "        n = 0\n",
    "        i = 0\n",
    "        j = len(people) - 1\n",
    "        while i <= j:\n",
    "            if people[i] + people[j] <= limit:\n",
    "                i += 1\n",
    "            n += 1\n",
    "            j -=1\n",
    "        return n"
   ]
  },
  {
   "cell_type": "code",
   "execution_count": null,
   "id": "a4467d35-d9f9-4921-b59e-8e70c345afe6",
   "metadata": {},
   "outputs": [],
   "source": []
  }
 ],
 "metadata": {
  "kernelspec": {
   "display_name": "Python 3 (ipykernel)",
   "language": "python",
   "name": "python3"
  },
  "language_info": {
   "codemirror_mode": {
    "name": "ipython",
    "version": 3
   },
   "file_extension": ".py",
   "mimetype": "text/x-python",
   "name": "python",
   "nbconvert_exporter": "python",
   "pygments_lexer": "ipython3",
   "version": "3.11.7"
  }
 },
 "nbformat": 4,
 "nbformat_minor": 5
}
