{
  "metadata": {
    "kernelspec": {
      "name": "python",
      "display_name": "Python (Pyodide)",
      "language": "python"
    },
    "language_info": {
      "codemirror_mode": {
        "name": "python",
        "version": 3
      },
      "file_extension": ".py",
      "mimetype": "text/x-python",
      "name": "python",
      "nbconvert_exporter": "python",
      "pygments_lexer": "ipython3",
      "version": "3.8"
    }
  },
  "nbformat_minor": 5,
  "nbformat": 4,
  "cells": [
    {
      "id": "aaa07c72-7aef-42fa-99c0-19db3318cbe6",
      "cell_type": "markdown",
      "source": "You are given a large integer represented as an integer array digits, where each digits[i] is the ith digit of the integer. The digits are ordered from most significant to least significant in left-to-right order. The large integer does not contain any leading 0's.\n\nIncrement the large integer by one and return the resulting array of digits.\n\n \n\nExample 1:\n\nInput: digits = [1,2,3]\nOutput: [1,2,4]\nExplanation: The array represents the integer 123.\nIncrementing by one gives 123 + 1 = 124.\nThus, the result should be [1,2,4].\n\nExample 2:\n\nInput: digits = [4,3,2,1]\nOutput: [4,3,2,2]\nExplanation: The array represents the integer 4321.\nIncrementing by one gives 4321 + 1 = 4322.\nThus, the result should be [4,3,2,2].\n\nExample 3:\n\nInput: digits = [9]\nOutput: [1,0]\nExplanation: The array represents the integer 9.\nIncrementing by one gives 9 + 1 = 10.\nThus, the result should be [1,0].",
      "metadata": {}
    },
    {
      "id": "5a23ef41-1068-49df-83b1-8e51199e8526",
      "cell_type": "markdown",
      "source": "My method: Accepted",
      "metadata": {}
    },
    {
      "id": "fef92171-326f-4ec1-b425-97fc7ff6de55",
      "cell_type": "code",
      "source": "class Solution:\n    def plusOne(self, digits: List[int]) -> List[int]:\n        sum = 0\n        for i in range(len(digits)):\n            sum = sum + digits[i]*(10**(len(digits)-1-i))\n        sum += 1\n        list = []\n        while sum != 0:\n            res = sum%10\n            list.append(res)\n            sum = sum//10\n        list = list[::-1]\n        return list",
      "metadata": {
        "trusted": true
      },
      "outputs": [],
      "execution_count": null
    },
    {
      "id": "66bde361-d692-401d-bb18-026b5b25bcb8",
      "cell_type": "code",
      "source": "",
      "metadata": {
        "trusted": true
      },
      "outputs": [],
      "execution_count": null
    }
  ]
}