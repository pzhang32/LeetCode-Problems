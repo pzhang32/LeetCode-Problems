{
 "cells": [
  {
   "cell_type": "markdown",
   "id": "9cda819c-c36e-49d4-a719-4d62b6d14c82",
   "metadata": {},
   "source": [
    "Given an integer array nums and an integer k, return the kth largest element in the array.\n",
    "\n",
    "Note that it is the kth largest element in the sorted order, not the kth distinct element.\n",
    "\n",
    "Can you solve it without sorting?\n",
    "\n",
    " \n",
    "\n",
    "Example 1:\n",
    "\n",
    "Input: nums = [3,2,1,5,6,4], k = 2\n",
    "Output: 5\n",
    "Example 2:\n",
    "\n",
    "Input: nums = [3,2,3,1,2,4,5,5,6], k = 4\n",
    "Output: 4\n",
    " "
   ]
  },
  {
   "cell_type": "markdown",
   "id": "29f5b071-e7de-4cee-a89d-e4ca344ca383",
   "metadata": {},
   "source": [
    "method 1, runtime 489ms, memory 27.56mb"
   ]
  },
  {
   "cell_type": "code",
   "execution_count": null,
   "id": "9cf2267b-195e-440f-9508-7e6c77417993",
   "metadata": {},
   "outputs": [],
   "source": [
    "import heapq\n",
    "class Solution:\n",
    "    def findKthLargest(self, nums: List[int], k: int) -> int:\n",
    "        for i in range(0, len(nums)):\n",
    "            nums[i] = nums[i]*(-1)\n",
    "\n",
    "        heapq.heapify(nums)\n",
    "        for i in range(0,k):\n",
    "            j = heapq.heappop(nums)\n",
    "\n",
    "        return j*(-1)"
   ]
  },
  {
   "cell_type": "markdown",
   "id": "e125ec2b-e41e-4e73-9e0c-8d68609b3cc7",
   "metadata": {},
   "source": [
    "method 2, runtime 436ms, memory 29.76mb"
   ]
  },
  {
   "cell_type": "code",
   "execution_count": null,
   "id": "e34dd766-68ad-4574-bc42-0fcc878dfac0",
   "metadata": {},
   "outputs": [],
   "source": [
    "class Solution:\n",
    "    def findKthLargest(self, nums: List[int], k: int) -> int:\n",
    "        nums.sort(reverse=True)\n",
    "        return nums[k-1]"
   ]
  },
  {
   "cell_type": "code",
   "execution_count": null,
   "id": "70a434b3-f0a2-4818-bca0-52a818d15edd",
   "metadata": {},
   "outputs": [],
   "source": [
    "class Solution:\n",
    "    def findKthLargest(self, nums: List[int], k: int) -> int:\n",
    "        nums.sort()\n",
    "        return nums[-k]"
   ]
  },
  {
   "cell_type": "code",
   "execution_count": 13,
   "id": "7e2776ed-d64c-4456-a725-8f050fd3b058",
   "metadata": {},
   "outputs": [
    {
     "name": "stdout",
     "output_type": "stream",
     "text": [
      "[]\n"
     ]
    }
   ],
   "source": [
    "nums = [3,2,3,1,2,4,5,5,6]\n",
    "nums = nums*(-1)\n",
    "print(nums)"
   ]
  },
  {
   "cell_type": "code",
   "execution_count": null,
   "id": "d6bc63fb-94df-4305-afe4-b92824761f91",
   "metadata": {},
   "outputs": [],
   "source": []
  }
 ],
 "metadata": {
  "kernelspec": {
   "display_name": "Python 3 (ipykernel)",
   "language": "python",
   "name": "python3"
  },
  "language_info": {
   "codemirror_mode": {
    "name": "ipython",
    "version": 3
   },
   "file_extension": ".py",
   "mimetype": "text/x-python",
   "name": "python",
   "nbconvert_exporter": "python",
   "pygments_lexer": "ipython3",
   "version": "3.11.7"
  }
 },
 "nbformat": 4,
 "nbformat_minor": 5
}
