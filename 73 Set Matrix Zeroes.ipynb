{
  "metadata": {
    "kernelspec": {
      "name": "python",
      "display_name": "Python (Pyodide)",
      "language": "python"
    },
    "language_info": {
      "codemirror_mode": {
        "name": "python",
        "version": 3
      },
      "file_extension": ".py",
      "mimetype": "text/x-python",
      "name": "python",
      "nbconvert_exporter": "python",
      "pygments_lexer": "ipython3",
      "version": "3.8"
    }
  },
  "nbformat_minor": 5,
  "nbformat": 4,
  "cells": [
    {
      "id": "cf69cba2-d9a5-4328-b563-67a2cc2389c4",
      "cell_type": "markdown",
      "source": "Given an m x n integer matrix matrix, if an element is 0, set its entire row and column to 0's.\n\nYou must do it in place.",
      "metadata": {}
    },
    {
      "id": "fdae8ab5-f64b-4506-b89a-89bb02586a3a",
      "cell_type": "code",
      "source": "class Solution:\n    def setZeroes(self, matrix: List[List[int]]) -> None:\n        \"\"\"\n        Do not return anything, modify matrix in-place instead.\n        \"\"\"\n        m = len(matrix)\n        n = len(matrix[0])\n\n        list_row = []\n        list_col = []\n        \n        for i in range(m):\n            for j in range(n):\n                if matrix[i][j] == 0:\n                    list_row.append(i)\n                    list_col.append(j)\n\n        for i in list_row:\n            for j in range(n):\n                matrix[i][j] = 0\n            \n        for j in list_col:\n            for i in range(m):\n                matrix[i][j] = 0",
      "metadata": {
        "trusted": true
      },
      "outputs": [],
      "execution_count": null
    }
  ]
}