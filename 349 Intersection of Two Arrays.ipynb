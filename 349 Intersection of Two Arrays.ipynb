{
 "cells": [
  {
   "cell_type": "markdown",
   "id": "2e5ef97a-a801-4927-8635-cdf8f970f87d",
   "metadata": {},
   "source": [
    "Given two integer arrays nums1 and nums2, return an array of their \n",
    "intersection\n",
    ". Each element in the result must be unique and you may return the result in any order.\n",
    "\n",
    " \n",
    "\n",
    "Example 1:\n",
    "\n",
    "Input: nums1 = [1,2,2,1], nums2 = [2,2]\n",
    "Output: [2]\n",
    "Example 2:\n",
    "\n",
    "Input: nums1 = [4,9,5], nums2 = [9,4,9,8,4]\n",
    "Output: [9,4]\n",
    "Explanation: [4,9] is also accepted.\n",
    " "
   ]
  },
  {
   "cell_type": "code",
   "execution_count": null,
   "id": "ed68d603-53b5-4a92-9866-8d507e62347c",
   "metadata": {},
   "outputs": [],
   "source": [
    "class Solution:\n",
    "    def intersection(self, nums1: List[int], nums2: List[int]) -> List[int]:\n",
    "        set1 = set(nums1)\n",
    "        set2 = set(nums2)\n",
    "\n",
    "        list = []\n",
    "        for i in set1:\n",
    "            if i in set2:\n",
    "                list.append(i)\n",
    "\n",
    "        return list\n",
    "\n",
    "# 以上代码可以只用一行：\n",
    "# return list(set(nums1) & set(nums2))"
   ]
  },
  {
   "cell_type": "code",
   "execution_count": null,
   "id": "fd8a1f11-0b73-4aff-9b5c-131614933ed5",
   "metadata": {},
   "outputs": [],
   "source": []
  }
 ],
 "metadata": {
  "kernelspec": {
   "display_name": "Python 3 (ipykernel)",
   "language": "python",
   "name": "python3"
  },
  "language_info": {
   "codemirror_mode": {
    "name": "ipython",
    "version": 3
   },
   "file_extension": ".py",
   "mimetype": "text/x-python",
   "name": "python",
   "nbconvert_exporter": "python",
   "pygments_lexer": "ipython3",
   "version": "3.11.7"
  }
 },
 "nbformat": 4,
 "nbformat_minor": 5
}
