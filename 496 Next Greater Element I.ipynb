{
 "cells": [
  {
   "cell_type": "markdown",
   "id": "4c0c45da-339b-4698-b021-cd52fac40816",
   "metadata": {},
   "source": [
    "The next greater element of some element x in an array is the first greater element that is to the right of x in the same array.\r\n",
    "\r\n",
    "You are given two distinct 0-indexed integer arrays nums1 and nums2, where nums1 is a subset of nums2.\r\n",
    "\r\n",
    "For each 0 <= i < nums1.length, find the index j such that nums1[i] == nums2[j] and determine the next greater element of nums2[j] in nums2. If there is no next greater element, then the answer for this query is -1.\r\n",
    "\r\n",
    "Return an array ans of length nums1.length such that ans[i] is the next greater element as described above.\r\n",
    "\r\n",
    " \r\n",
    "\r\n",
    "Example 1:\r\n",
    "\r\n",
    "Input: nums1 = [4,1,2], nums2 = [1,3,4,2]\r\n",
    "Output: [-1,3,-1]\r\n",
    "Explanation: The next greater element for each value of nums1 is as follows:\r\n",
    "- 4 is underlined in nums2 = [1,3,4,2]. There is no next greater element, so the answer is -1.\r\n",
    "- 1 is underlined in nums2 = [1,3,4,2]. The next greater element is 3.\r\n",
    "- 2 is underlined in nums2 = [1,3,4,2]. There is no next greater element, so the answer is -1.\r\n",
    "Example 2:\r\n",
    "\r\n",
    "Input: nums1 = [2,4], nums2 = [1,2,3,4]\r\n",
    "Output: [3,-1]\r\n",
    "Explanation: The next greater element for each value of nums1 is as follows:\r\n",
    "- 2 is underlined in nums2 = [1,2,3,4]. The next greater element is 3.\r\n",
    "- 4 is underlined in nums2 = [1,2,3,4]. There is no next greater element, so the answer is -1.\r\n",
    " "
   ]
  },
  {
   "cell_type": "markdown",
   "id": "fece907e-ae2d-41ff-ab63-5c14f55339f2",
   "metadata": {},
   "source": [
    "my method, it works but extremely inefficient. rumtime 126ms, memory 16.75mb"
   ]
  },
  {
   "cell_type": "code",
   "execution_count": null,
   "id": "c4f78235-be3f-49b0-814b-a4f321a22141",
   "metadata": {},
   "outputs": [],
   "source": [
    "class Solution:\n",
    "    def nextGreaterElement(self, nums1: List[int], nums2: List[int]) -> List[int]:\n",
    "        list = []\n",
    "        for i in nums1:\n",
    "            for j in nums2:\n",
    "                if i == j:\n",
    "                    flag = 0\n",
    "                    for k in range(nums2.index(j)+1, len(nums2)):\n",
    "                        if nums2[k] > i:\n",
    "                            list.append(nums2[k])\n",
    "                            flag = 1\n",
    "                            break\n",
    "                    if flag == 0:\n",
    "                        list.append(-1)\n",
    "        return list"
   ]
  },
  {
   "cell_type": "markdown",
   "id": "e995e215-75ce-4aaa-b15b-71ca9ee2fb84",
   "metadata": {},
   "source": [
    "method 2 (stack) https://www.bilibili.com/video/BV1sy4y1q79M/?p=23&spm_id_from=pageDriver&vd_source=bd66a16f3258aa87d3cc4daf025b67ef\n",
    "https://www.bilibili.com/read/cv8687919/ 作者的代码有误！\n",
    "even slower! rumtime 139ms, memory 16.76mb"
   ]
  },
  {
   "cell_type": "code",
   "execution_count": null,
   "id": "62feab36-b58a-42ff-b299-99768fb0a21f",
   "metadata": {},
   "outputs": [],
   "source": [
    "class Solution:\n",
    "    def nextGreaterElement(self, nums1: List[int], nums2: List[int]) -> List[int]:\n",
    "        list = []\n",
    "        for i in nums1:\n",
    "            j = -1\n",
    "            temp = nums2.copy()\n",
    "            k = -1\n",
    "            while temp and k != i:\n",
    "                k = temp.pop()\n",
    "                if k > i:\n",
    "                    j = k\n",
    "            list.append(j)\n",
    "        return list"
   ]
  },
  {
   "cell_type": "markdown",
   "id": "3837a7cc-2474-450b-b036-697995281b1c",
   "metadata": {},
   "source": [
    "my method 3 (hash table),  rumtime 66ms, memory 16.72mb"
   ]
  },
  {
   "cell_type": "code",
   "execution_count": null,
   "id": "03a1181e-d5c7-454d-b6d4-107640d3a23c",
   "metadata": {},
   "outputs": [],
   "source": [
    "class Solution:\n",
    "    def nextGreaterElement(self, nums1: List[int], nums2: List[int]) -> List[int]:\n",
    "        mapping={}\n",
    "        for num in nums2:\n",
    "            mapping[num] = -1\n",
    "            for i in range(nums2.index(num)+1,len(nums2)):\n",
    "                if num < nums2[i]:\n",
    "                    mapping[num] = nums2[i]\n",
    "                    break\n",
    "               \n",
    "        list = []\n",
    "        for num in nums1:\n",
    "            list.append(mapping[num])\n",
    "        \n",
    "        return list"
   ]
  },
  {
   "cell_type": "markdown",
   "id": "09eb2994-90db-4924-be2a-38b0423293ef",
   "metadata": {},
   "source": [
    "method 4 (stack + hash table), rumtime 45ms, memory 16.79mb\n",
    "https://www.bilibili.com/read/cv8716169/"
   ]
  },
  {
   "cell_type": "code",
   "execution_count": null,
   "id": "bd2d52c2-e772-466a-a43f-03b9898323c4",
   "metadata": {},
   "outputs": [],
   "source": [
    "class Solution:\n",
    "    def nextGreaterElement(self, nums1: List[int], nums2: List[int]) -> List[int]:\n",
    "        res = []\n",
    "        stack = []\n",
    "        mapping = {}\n",
    "        for num in nums2:\n",
    "            while len(stack) != 0 and num > stack[-1]:\n",
    "                temp = stack.pop()\n",
    "                mapping[temp] = num\n",
    "            stack.append(num)\n",
    "\n",
    "        while len(stack) != 0:\n",
    "            mapping[stack.pop()] = -1\n",
    "\n",
    "        for num in nums1:\n",
    "            res.append(mapping[num])\n",
    "\n",
    "        return res"
   ]
  }
 ],
 "metadata": {
  "kernelspec": {
   "display_name": "Python 3 (ipykernel)",
   "language": "python",
   "name": "python3"
  },
  "language_info": {
   "codemirror_mode": {
    "name": "ipython",
    "version": 3
   },
   "file_extension": ".py",
   "mimetype": "text/x-python",
   "name": "python",
   "nbconvert_exporter": "python",
   "pygments_lexer": "ipython3",
   "version": "3.11.7"
  }
 },
 "nbformat": 4,
 "nbformat_minor": 5
}
