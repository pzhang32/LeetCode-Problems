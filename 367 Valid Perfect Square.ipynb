{
 "cells": [
  {
   "cell_type": "markdown",
   "id": "955ac8da-f82d-4d51-af21-8949f203e08c",
   "metadata": {},
   "source": [
    "Given a positive integer num, return true if num is a perfect square or false otherwise.\n",
    "\n",
    "A perfect square is an integer that is the square of an integer. In other words, it is the product of some integer with itself.\n",
    "\n",
    "You must not use any built-in library function, such as sqrt.\n",
    "\n",
    " \n",
    "\n",
    "Example 1:\n",
    "\n",
    "Input: num = 16\n",
    "Output: true\n",
    "Explanation: We return true because 4 * 4 = 16 and 4 is an integer.\n",
    "Example 2:\n",
    "\n",
    "Input: num = 14\n",
    "Output: false\n",
    "Explanation: We return false because 3.742 * 3.742 = 14 and 3.742 is not an integer.\n",
    " "
   ]
  },
  {
   "cell_type": "markdown",
   "id": "f2d92f6e-3452-4a87-8014-8b27545a45a1",
   "metadata": {},
   "source": [
    "My method, Runtime 34ms, Beats 65.81%, Memory 16.49MB, Beats 74.36%"
   ]
  },
  {
   "cell_type": "code",
   "execution_count": null,
   "id": "8df0aa6a-ee6a-441e-9ef0-c5e522f6ce22",
   "metadata": {},
   "outputs": [],
   "source": [
    "class Solution:\n",
    "    def isPerfectSquare(self, num: int) -> bool:\n",
    "        left = 0\n",
    "        right = num\n",
    "        while left <= right:\n",
    "            mid = (left + right) // 2\n",
    "            if mid * mid < num:\n",
    "                left = mid + 1\n",
    "            elif mid * mid > num:\n",
    "                right = mid - 1\n",
    "            else:\n",
    "                return True\n",
    "        return False\n",
    "            "
   ]
  }
 ],
 "metadata": {
  "kernelspec": {
   "display_name": "Python 3 (ipykernel)",
   "language": "python",
   "name": "python3"
  },
  "language_info": {
   "codemirror_mode": {
    "name": "ipython",
    "version": 3
   },
   "file_extension": ".py",
   "mimetype": "text/x-python",
   "name": "python",
   "nbconvert_exporter": "python",
   "pygments_lexer": "ipython3",
   "version": "3.11.7"
  }
 },
 "nbformat": 4,
 "nbformat_minor": 5
}
