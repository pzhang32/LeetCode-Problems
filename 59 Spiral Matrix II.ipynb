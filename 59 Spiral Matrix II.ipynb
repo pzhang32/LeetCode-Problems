{
  "metadata": {
    "kernelspec": {
      "name": "python",
      "display_name": "Python (Pyodide)",
      "language": "python"
    },
    "language_info": {
      "codemirror_mode": {
        "name": "python",
        "version": 3
      },
      "file_extension": ".py",
      "mimetype": "text/x-python",
      "name": "python",
      "nbconvert_exporter": "python",
      "pygments_lexer": "ipython3",
      "version": "3.8"
    }
  },
  "nbformat_minor": 5,
  "nbformat": 4,
  "cells": [
    {
      "id": "d247b92f-0c80-4f73-9f99-097b0a08581e",
      "cell_type": "markdown",
      "source": "Given a positive integer n, generate an n x n matrix filled with elements from 1 to n2 in spiral order.",
      "metadata": {}
    },
    {
      "id": "a738e098-b693-466d-9673-f86b99e53436",
      "cell_type": "code",
      "source": "class Solution:\n    def generateMatrix(self, n: int) -> List[List[int]]:\n        matrix = [[0 for i in range(n)] for i in range(n)]\n        row_up = 0\n        row_down = n - 1\n        col_left = 0\n        col_right = n - 1\n        value = 1\n\n        while row_up <= row_down and col_left <= col_right:\n            i = row_up\n            for j in range(col_left, col_right+1):\n                matrix[i][j] = value\n                value += 1\n            row_up += 1\n            #print(f\"up: {matrix}\")\n\n            j = col_right\n            for i in range(row_up, row_down+1):\n                matrix[i][j] = value\n                value += 1\n            col_right -= 1\n            #print(f\"right: {matrix}\")\n\n            i = row_down\n            if col_left <= col_right:\n                for j in range(col_right, col_left-1, -1):\n                    matrix[i][j] = value\n                    value += 1\n                row_down -= 1\n                #print(f\"down: {matrix}\")\n\n            j = col_left\n            if row_up <= row_down:\n                for i in range(row_down, row_up-1, -1):\n                    matrix[i][j] = value\n                    value += 1\n                col_left += 1\n                #print(f\"left: {matrix}\")\n            #print(f\"{row_up, row_down, col_left, col_right}\")\n            #print(f\"next\")\n\n        return matrix",
      "metadata": {
        "trusted": true
      },
      "outputs": [],
      "execution_count": null
    },
    {
      "id": "53a6cdb4-eb10-4d99-9bb1-25238147a8a4",
      "cell_type": "code",
      "source": "",
      "metadata": {
        "trusted": true
      },
      "outputs": [],
      "execution_count": null
    },
    {
      "id": "b18a89d8-5204-4530-b64c-7ae2c00c2be6",
      "cell_type": "code",
      "source": "",
      "metadata": {
        "trusted": true
      },
      "outputs": [],
      "execution_count": null
    }
  ]
}