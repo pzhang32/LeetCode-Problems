{
 "cells": [
  {
   "cell_type": "markdown",
   "id": "da85fda8-9b74-4a22-a364-6605e60cfa4d",
   "metadata": {},
   "source": [
    "Given an array of positive integers nums and a positive integer target, return the minimal length of a \n",
    "subarray\n",
    " whose sum is greater than or equal to target. If there is no such subarray, return 0 instead.\n",
    "\n",
    " \n",
    "\n",
    "Example 1:\n",
    "\n",
    "Input: target = 7, nums = [2,3,1,2,4,3]\n",
    "Output: 2\n",
    "Explanation: The subarray [4,3] has the minimal length under the problem constraint.\n",
    "Example 2:\n",
    "\n",
    "Input: target = 4, nums = [1,4,4]\n",
    "Output: 1\n",
    "Example 3:\n",
    "\n",
    "Input: target = 11, nums = [1,1,1,1,1,1,1,1]\n",
    "Output: 0"
   ]
  },
  {
   "cell_type": "markdown",
   "id": "5b69c7d9-bb93-4b2a-a418-b2484aaa06ee",
   "metadata": {},
   "source": [
    "method 1, time limit exceeded"
   ]
  },
  {
   "cell_type": "code",
   "execution_count": null,
   "id": "b43ee179-95dd-48d7-96cd-659c6f134f2a",
   "metadata": {},
   "outputs": [],
   "source": [
    "class Solution:\n",
    "    def minSubArrayLen(self, target: int, nums: List[int]) -> int:\n",
    "        if nums == [] or sum(nums) < target:\n",
    "            return 0\n",
    "\n",
    "        smallest_count = len(nums)\n",
    "        for i in range(0, len(nums)):\n",
    "            total = 0 #存在名称为sum的方法，所以变量不要取名sum，不然会报错！\n",
    "            count = 0\n",
    "            \n",
    "            for j in range(i, min(i+smallest_count, len(nums))):\n",
    "                total += nums[j]\n",
    "                count += 1\n",
    "                if total >= target:\n",
    "                    if count < smallest_count:\n",
    "                        smallest_count = count\n",
    "                    break\n",
    "                \n",
    "        return smallest_count"
   ]
  },
  {
   "cell_type": "markdown",
   "id": "426c05fa-b41b-40ea-bb99-904038b7de2f",
   "metadata": {},
   "source": [
    "method 2 https://www.bilibili.com/read/cv8932695/\n",
    "(time limit exceeded)"
   ]
  },
  {
   "cell_type": "code",
   "execution_count": null,
   "id": "d2626494-03f7-47a3-a2f7-f761299790e6",
   "metadata": {},
   "outputs": [],
   "source": [
    "class Solution:\n",
    "    def minSubArrayLen(self, target: int, nums: List[int]) -> int:\n",
    "        if nums == []:\n",
    "            return 0\n",
    "        size = 1\n",
    "        while size <= len(nums):\n",
    "            for i in range(len(nums)-size+1):\n",
    "                total = sum(nums[i:i+size])\n",
    "                if total >= target:\n",
    "                    return size\n",
    "            size += 1\n",
    "        return 0\n",
    "        "
   ]
  },
  {
   "cell_type": "markdown",
   "id": "45c5ffba-d84c-493f-a36b-e9c9647a68cc",
   "metadata": {},
   "source": [
    "method 3 （滑动窗口法/双指针法） https://www.bilibili.com/read/cv8932695/\n",
    "\n",
    "runtime 119ms, memory 30.41mb 这个方法效率依然很低下"
   ]
  },
  {
   "cell_type": "code",
   "execution_count": null,
   "id": "da6afaef-9da9-48a3-ac2e-ea1170da1902",
   "metadata": {},
   "outputs": [],
   "source": [
    "class Solution:\n",
    "    def minSubArrayLen(self, target: int, nums: List[int]) -> int:\n",
    "        if nums == []:\n",
    "            return 0\n",
    "        result = len(nums) + 1\n",
    "        total = 0\n",
    "        i, j = 0, 0\n",
    "        while j < len(nums):\n",
    "            total += nums[j]\n",
    "            j += 1\n",
    "            while total >= target:\n",
    "                result = min(result, j - i)\n",
    "                total -= nums[i]\n",
    "                i += 1\n",
    "        return 0 if result == len(nums)+1 else result"
   ]
  },
  {
   "cell_type": "markdown",
   "id": "acddd369-045a-4de2-b99a-bc04c330dfa5",
   "metadata": {},
   "source": [
    "https://www.bilibili.com/video/BV1GR4y127Tz/?spm_id_from=333.337.search-card.all.click&vd_source=bd66a16f3258aa87d3cc4daf025b67ef\n",
    "这个视频讲解得更清楚"
   ]
  },
  {
   "cell_type": "code",
   "execution_count": null,
   "id": "a9e5773e-a692-492e-9b5e-30e81b83c328",
   "metadata": {},
   "outputs": [],
   "source": [
    "class Solution:\n",
    "    def minSubArrayLen(self, target: int, nums: List[int]) -> int:\n",
    "        if nums == []:\n",
    "            return 0\n",
    "        \n",
    "        i = 0\n",
    "        j = 0\n",
    "        total = 0\n",
    "        result = len(nums) + 1\n",
    "        \n",
    "        while j < len(nums):\n",
    "            total += nums[j]\n",
    "            j += 1\n",
    "            while i < j and total >= target:\n",
    "                total -= nums[i]\n",
    "                result = min(result, j - i)\n",
    "                i += 1\n",
    "\n",
    "        if result == len(nums) + 1:\n",
    "            return 0\n",
    "        else:\n",
    "            return result"
   ]
  }
 ],
 "metadata": {
  "kernelspec": {
   "display_name": "Python 3 (ipykernel)",
   "language": "python",
   "name": "python3"
  },
  "language_info": {
   "codemirror_mode": {
    "name": "ipython",
    "version": 3
   },
   "file_extension": ".py",
   "mimetype": "text/x-python",
   "name": "python",
   "nbconvert_exporter": "python",
   "pygments_lexer": "ipython3",
   "version": "3.11.7"
  }
 },
 "nbformat": 4,
 "nbformat_minor": 5
}
