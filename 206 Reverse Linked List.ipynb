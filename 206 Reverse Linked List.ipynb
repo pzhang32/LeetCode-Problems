{
 "cells": [
  {
   "cell_type": "markdown",
   "id": "af62f580-76bb-4d47-8f30-7171a9419da7",
   "metadata": {},
   "source": [
    "Given the head of a singly linked list, reverse the list, and return the reversed list.\r\n",
    "\r\n",
    " \r\n",
    "\r\n",
    "Example 1:\r\n",
    "\r\n",
    "\r\n",
    "Input: head = [1,2,3,4,5]\r\n",
    "Output: [5,4,3,2,1]\r\n",
    "Example 2:\r\n",
    "\r\n",
    "\r\n",
    "Input: head = [1,2]\r\n",
    "Output: [2,1]\r\n",
    "Example 3:\r\n",
    "\r\n",
    "Input: head = []\r\n",
    "Output: []"
   ]
  },
  {
   "cell_type": "markdown",
   "id": "ac000e81-e854-4230-8bb1-bcbb3d2c49e6",
   "metadata": {},
   "source": [
    "这个逻辑比较清晰 https://www.youtube.com/watch?v=KRxeMng7fBU"
   ]
  },
  {
   "cell_type": "code",
   "execution_count": null,
   "id": "6ac624f4-e5df-4dd0-b3db-b04c40c85658",
   "metadata": {},
   "outputs": [],
   "source": [
    "# Definition for singly-linked list.\n",
    "# class ListNode:\n",
    "#     def __init__(self, val=0, next=None):\n",
    "#         self.val = val\n",
    "#         self.next = next\n",
    "class Solution:\n",
    "    def reverseList(self, head: Optional[ListNode]) -> Optional[ListNode]:\n",
    "        prev = None\n",
    "        current = head\n",
    "\n",
    "        while current != None:\n",
    "            temp = current.next\n",
    "            current.next = prev\n",
    "            prev = current\n",
    "            current = temp\n",
    "\n",
    "        return prev"
   ]
  },
  {
   "cell_type": "markdown",
   "id": "52b42c63-2c58-453d-8245-848436cd5554",
   "metadata": {},
   "source": [
    "method 2 https://www.bilibili.com/video/BV1sy4y1q79M?p=14&vd_source=bd66a16f3258aa87d3cc4daf025b67ef\n",
    "太过抽象看不懂"
   ]
  }
 ],
 "metadata": {
  "kernelspec": {
   "display_name": "Python 3 (ipykernel)",
   "language": "python",
   "name": "python3"
  },
  "language_info": {
   "codemirror_mode": {
    "name": "ipython",
    "version": 3
   },
   "file_extension": ".py",
   "mimetype": "text/x-python",
   "name": "python",
   "nbconvert_exporter": "python",
   "pygments_lexer": "ipython3",
   "version": "3.11.7"
  }
 },
 "nbformat": 4,
 "nbformat_minor": 5
}
