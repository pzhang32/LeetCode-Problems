{
 "cells": [
  {
   "cell_type": "markdown",
   "id": "af62f580-76bb-4d47-8f30-7171a9419da7",
   "metadata": {},
   "source": [
    "Given the head of a singly linked list, reverse the list, and return the reversed list.\r\n",
    "\r\n",
    " \r\n",
    "\r\n",
    "Example 1:\r\n",
    "\r\n",
    "\r\n",
    "Input: head = [1,2,3,4,5]\r\n",
    "Output: [5,4,3,2,1]\r\n",
    "Example 2:\r\n",
    "\r\n",
    "\r\n",
    "Input: head = [1,2]\r\n",
    "Output: [2,1]\r\n",
    "Example 3:\r\n",
    "\r\n",
    "Input: head = []\r\n",
    "Output: []"
   ]
  },
  {
   "cell_type": "markdown",
   "id": "ac000e81-e854-4230-8bb1-bcbb3d2c49e6",
   "metadata": {},
   "source": [
    "这个逻辑比较清晰 https://www.youtube.com/watch?v=KRxeMng7fBU\n",
    "https://www.bilibili.com/video/BV1nB4y1i7eL/?spm_id_from=333.337.search-card.all.click&vd_source=bd66a16f3258aa87d3cc4daf025b67ef\n",
    "双指针法，用cur和pre两个指针，递归法还是看不懂"
   ]
  },
  {
   "cell_type": "code",
   "execution_count": null,
   "id": "6ac624f4-e5df-4dd0-b3db-b04c40c85658",
   "metadata": {},
   "outputs": [],
   "source": [
    "# Definition for singly-linked list.\n",
    "# class ListNode:\n",
    "#     def __init__(self, val=0, next=None):\n",
    "#         self.val = val\n",
    "#         self.next = next\n",
    "class Solution:\n",
    "    def reverseList(self, head: Optional[ListNode]) -> Optional[ListNode]:\n",
    "        #初始化\n",
    "        prev = None\n",
    "        current = head\n",
    "\n",
    "        while current != None:\n",
    "            temp = current.next\n",
    "            current.next = prev\n",
    "            prev = current\n",
    "            current = temp\n",
    "\n",
    "        return prev"
   ]
  },
  {
   "cell_type": "markdown",
   "id": "52b42c63-2c58-453d-8245-848436cd5554",
   "metadata": {},
   "source": [
    "method 2 https://www.bilibili.com/video/BV1sy4y1q79M?p=14&vd_source=bd66a16f3258aa87d3cc4daf025b67ef\n",
    "太过抽象看不懂"
   ]
  },
  {
   "cell_type": "code",
   "execution_count": null,
   "id": "42cb886e-6dd3-478e-9051-ab8e767c896a",
   "metadata": {},
   "outputs": [],
   "source": [
    "class Solution:\n",
    "    def reverseList(self, head: Optional[ListNode]) -> Optional[ListNode]:\n",
    "        if head == None or head.next == None: #退出条件\n",
    "            return head\n",
    "        else:\n",
    "            p = self.reverseList(head.next) #先递归再赋值，所以这句写在下面两个句子前面\n",
    "            head.next.next = head\n",
    "            head.next = None\n",
    "            return p"
   ]
  },
  {
   "cell_type": "code",
   "execution_count": null,
   "id": "d12b9482-20b3-4abe-b258-f2c1170e6a68",
   "metadata": {},
   "outputs": [],
   "source": []
  }
 ],
 "metadata": {
  "kernelspec": {
   "display_name": "Python 3 (ipykernel)",
   "language": "python",
   "name": "python3"
  },
  "language_info": {
   "codemirror_mode": {
    "name": "ipython",
    "version": 3
   },
   "file_extension": ".py",
   "mimetype": "text/x-python",
   "name": "python",
   "nbconvert_exporter": "python",
   "pygments_lexer": "ipython3",
   "version": "3.11.7"
  }
 },
 "nbformat": 4,
 "nbformat_minor": 5
}
