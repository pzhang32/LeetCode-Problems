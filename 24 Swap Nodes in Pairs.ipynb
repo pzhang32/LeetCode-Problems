{
 "cells": [
  {
   "cell_type": "markdown",
   "id": "028afc77-2fa6-4073-abb2-0fd1656e37ed",
   "metadata": {},
   "source": [
    "Given a linked list, swap every two adjacent nodes and return its head. You must solve the problem without modifying the values in the list's nodes (i.e., only nodes themselves may be changed.)\r\n",
    "\r\n",
    " \r\n",
    "\r\n",
    "Example 1:\r\n",
    "\r\n",
    "\r\n",
    "Input: head = [1,2,3,4]\r\n",
    "Output: [2,1,4,3]\r\n",
    "Example 2:\r\n",
    "\r\n",
    "Input: head = []\r\n",
    "Output: []\r\n",
    "Example 3:\r\n",
    "\r\n",
    "Input: head = [1]\r\n",
    "Output: [1]"
   ]
  },
  {
   "cell_type": "code",
   "execution_count": null,
   "id": "9f50b0e7-7026-4917-9850-489fe6a0f378",
   "metadata": {},
   "outputs": [],
   "source": [
    "# Definition for singly-linked list.\n",
    "# class ListNode:\n",
    "#     def __init__(self, val=0, next=None):\n",
    "#         self.val = val\n",
    "#         self.next = next\n",
    "class Solution:\n",
    "    def swapPairs(self, head: Optional[ListNode]) -> Optional[ListNode]:\n",
    "        dummy = ListNode(0, head)\n",
    "        pre = dummy\n",
    "        cur = head\n",
    "        while pre.next and pre.next.next: # 这里用 pre 确保后面要交换的两个节点（pre.next 和 pre.next.next）都存在\n",
    "            pre.next = cur.next\n",
    "            temp = cur.next.next\n",
    "            pre.next.next = cur\n",
    "            cur.next = temp\n",
    "            pre = cur\n",
    "            cur = temp\n",
    "        return dummy.next #不能 return head 因为 head 位置会变（在第一次交换的时候移动到了第二位）"
   ]
  }
 ],
 "metadata": {
  "kernelspec": {
   "display_name": "Python 3 (ipykernel)",
   "language": "python",
   "name": "python3"
  },
  "language_info": {
   "codemirror_mode": {
    "name": "ipython",
    "version": 3
   },
   "file_extension": ".py",
   "mimetype": "text/x-python",
   "name": "python",
   "nbconvert_exporter": "python",
   "pygments_lexer": "ipython3",
   "version": "3.11.7"
  }
 },
 "nbformat": 4,
 "nbformat_minor": 5
}
