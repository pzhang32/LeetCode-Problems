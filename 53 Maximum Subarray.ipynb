{
 "cells": [
  {
   "cell_type": "markdown",
   "id": "07ea161d-1ace-42f4-8f37-32383b64afd3",
   "metadata": {},
   "source": [
    "Given an integer array nums, find the \n",
    "subarray\n",
    " with the largest sum, and return its sum.\n",
    "\n",
    " \n",
    "\n",
    "Example 1:\n",
    "\n",
    "Input: nums = [-2,1,-3,4,-1,2,1,-5,4]\n",
    "Output: 6\n",
    "Explanation: The subarray [4,-1,2,1] has the largest sum 6.\n",
    "Example 2:\n",
    "\n",
    "Input: nums = [1]\n",
    "Output: 1\n",
    "Explanation: The subarray [1] has the largest sum 1.\n",
    "Example 3:\n",
    "\n",
    "Input: nums = [5,4,-1,7,8]\n",
    "Output: 23\n",
    "Explanation: The subarray [5,4,-1,7,8] has the largest sum 23.\n",
    " "
   ]
  },
  {
   "cell_type": "code",
   "execution_count": null,
   "id": "87a7f41e-d0a1-4af1-a977-ef2f959839cc",
   "metadata": {},
   "outputs": [],
   "source": [
    "class Solution:\n",
    "    def maxSubArray(self, nums: List[int]) -> int:\n",
    "        if len(nums) == 0:\n",
    "            return None\n",
    "\n",
    "        res = sum(nums)\n",
    "        for i in range(0, len(nums)):\n",
    "            total = 0\n",
    "            for j in range(i, len(nums)):\n",
    "                total += nums[j]\n",
    "                res = max(res, total)\n",
    "\n",
    "        return res\n",
    "\n",
    "# 暴力解法会导致超时，用 sum(nums[i:j]) 语句时 i 不能等于 j！"
   ]
  },
  {
   "cell_type": "code",
   "execution_count": null,
   "id": "f0792b2d-416a-4730-9245-04dfaa23134a",
   "metadata": {},
   "outputs": [],
   "source": []
  }
 ],
 "metadata": {
  "kernelspec": {
   "display_name": "Python 3 (ipykernel)",
   "language": "python",
   "name": "python3"
  },
  "language_info": {
   "codemirror_mode": {
    "name": "ipython",
    "version": 3
   },
   "file_extension": ".py",
   "mimetype": "text/x-python",
   "name": "python",
   "nbconvert_exporter": "python",
   "pygments_lexer": "ipython3",
   "version": "3.11.7"
  }
 },
 "nbformat": 4,
 "nbformat_minor": 5
}
