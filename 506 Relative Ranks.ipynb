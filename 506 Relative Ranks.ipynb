{
  "metadata": {
    "kernelspec": {
      "name": "python",
      "display_name": "Python (Pyodide)",
      "language": "python"
    },
    "language_info": {
      "codemirror_mode": {
        "name": "python",
        "version": 3
      },
      "file_extension": ".py",
      "mimetype": "text/x-python",
      "name": "python",
      "nbconvert_exporter": "python",
      "pygments_lexer": "ipython3",
      "version": "3.8"
    }
  },
  "nbformat_minor": 5,
  "nbformat": 4,
  "cells": [
    {
      "id": "cb65caca-8b94-4bfd-91d0-bcefe1d44d25",
      "cell_type": "markdown",
      "source": "You are given an integer array score of size n, where score[i] is the score of the ith athlete in a competition. All the scores are guaranteed to be unique.\n\nThe athletes are placed based on their scores, where the 1st place athlete has the highest score, the 2nd place athlete has the 2nd highest score, and so on. The placement of each athlete determines their rank:\n\nThe 1st place athlete's rank is \"Gold Medal\".\nThe 2nd place athlete's rank is \"Silver Medal\".\nThe 3rd place athlete's rank is \"Bronze Medal\".\nFor the 4th place to the nth place athlete, their rank is their placement number (i.e., the xth place athlete's rank is \"x\").\nReturn an array answer of size n where answer[i] is the rank of the ith athlete.\n\n \nExample 1:\n\nInput: score = [5,4,3,2,1]\nOutput: [\"Gold Medal\",\"Silver Medal\",\"Bronze Medal\",\"4\",\"5\"]\nExplanation: The placements are [1st, 2nd, 3rd, 4th, 5th].\n\nExample 2:\n\nInput: score = [10,3,8,9,4]\nOutput: [\"Gold Medal\",\"5\",\"Bronze Medal\",\"Silver Medal\",\"4\"]\nExplanation: The placements are [1st, 5th, 3rd, 2nd, 4th].\n\n ",
      "metadata": {}
    },
    {
      "id": "25868b93-c951-4a99-9945-0eacdf893058",
      "cell_type": "markdown",
      "source": "method 1: Accepted",
      "metadata": {}
    },
    {
      "id": "8b5b6c76-2f71-4d7e-9155-ecab33cd1498",
      "cell_type": "code",
      "source": "class Solution:\n    def findRelativeRanks(self, score: List[int]) -> List[str]:\n        indecies = []\n        for i in range(len(score)):\n            indecies.append(i)\n\n        indecies.sort(key=lambda x:score[x], reverse=True)\n\n        result =[\"\"] * len(score)\n        \n        for rank, index in enumerate(indecies):\n            if rank == 0:\n                result[index] = \"Gold Medal\"\n            elif rank == 1:\n                result[index] = \"Silver Medal\"\n            elif rank == 2:\n                result[index] = \"Bronze Medal\"\n            else:\n                result[index] = str(rank+1)\n\n        return result\n        \n        \n        \n",
      "metadata": {
        "trusted": true
      },
      "outputs": [],
      "execution_count": null
    },
    {
      "id": "edab41e5-764e-47c6-bded-3aaea840ece7",
      "cell_type": "markdown",
      "source": "method 2: Accepted",
      "metadata": {}
    },
    {
      "id": "6890b4e1-62a3-4b9d-8d7f-96a28d95f977",
      "cell_type": "code",
      "source": "class Solution:\n    def findRelativeRanks(self, score: List[int]) -> List[str]:\n        rank = {}\n        sorted_score = score[:]\n        sorted_score.sort(reverse=True)\n        for i in range(len(sorted_score)):\n            key = sorted_score[i]\n            \n            if i == 0:\n                rank[key] = \"Gold Medal\"\n            elif i == 1:\n                rank[key] = \"Silver Medal\"\n            elif i == 2:\n                rank[key] = \"Bronze Medal\"\n            else:\n                rank[key] = str(i + 1)\n\n        result = []\n        for score[i] in score:\n            result.append(rank[score[i]])\n\n        return result",
      "metadata": {
        "trusted": true
      },
      "outputs": [],
      "execution_count": null
    },
    {
      "id": "e9f9e1d5-3c7a-4ee7-a2d9-f7b683a3c05e",
      "cell_type": "code",
      "source": "",
      "metadata": {
        "trusted": true
      },
      "outputs": [],
      "execution_count": null
    }
  ]
}