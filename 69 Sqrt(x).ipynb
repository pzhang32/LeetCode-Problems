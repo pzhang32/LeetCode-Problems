{
 "cells": [
  {
   "cell_type": "markdown",
   "id": "c14be682-bbbd-48c4-b37f-03034b0d26c0",
   "metadata": {},
   "source": [
    "Given a non-negative integer x, return the square root of x rounded down to the nearest integer. The returned integer should be non-negative as well.\r\n",
    "\r\n",
    "You must not use any built-in exponent function or operator.\r\n",
    "\r\n",
    "For example, do not use pow(x, 0.5) in c++ or x ** 0.5 in python.\r\n",
    " \r\n",
    "\r\n",
    "Example 1:\r\n",
    "\r\n",
    "Input: x = 4\r\n",
    "Output: 2\r\n",
    "Explanation: The square root of 4 is 2, so w\n",
    "e return 2.\r\n",
    "Example 2:\r\n",
    "\r\n",
    "Input: x = 8\r\n",
    "Output: 2\r\n",
    "Explanation: The square root of 8 is 2.82842..., and since we round it down to the nearest integer, 2 is returned.\r\n",
    " "
   ]
  },
  {
   "cell_type": "markdown",
   "id": "b9594d71-1df7-413c-8d1f-eeaec5113054",
   "metadata": {},
   "source": [
    "my method, Runtime 48ms, Beats 27.34%, Memory 16.42MB, Beats 76.69%"
   ]
  },
  {
   "cell_type": "code",
   "execution_count": null,
   "id": "7c0e601f-c602-4be5-9667-a38260387f44",
   "metadata": {},
   "outputs": [],
   "source": [
    "class Solution:\n",
    "    def mySqrt(self, x: int) -> int:\n",
    "        left = 0\n",
    "        right = x\n",
    "        while left <= right:\n",
    "            mid = (left + right) // 2\n",
    "            if mid * mid < x:\n",
    "                left = mid +1\n",
    "            elif mid * mid > x:\n",
    "                right = mid - 1\n",
    "            else:\n",
    "                return mid\n",
    "        return right"
   ]
  }
 ],
 "metadata": {
  "kernelspec": {
   "display_name": "Python 3 (ipykernel)",
   "language": "python",
   "name": "python3"
  },
  "language_info": {
   "codemirror_mode": {
    "name": "ipython",
    "version": 3
   },
   "file_extension": ".py",
   "mimetype": "text/x-python",
   "name": "python",
   "nbconvert_exporter": "python",
   "pygments_lexer": "ipython3",
   "version": "3.11.7"
  }
 },
 "nbformat": 4,
 "nbformat_minor": 5
}
