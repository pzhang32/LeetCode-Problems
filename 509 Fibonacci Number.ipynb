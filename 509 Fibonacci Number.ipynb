{
 "cells": [
  {
   "cell_type": "markdown",
   "id": "ef6115a2-86e2-4b1e-b83a-668454a978a3",
   "metadata": {},
   "source": [
    "The Fibonacci numbers, commonly denoted F(n) form a sequence, called the Fibonacci sequence, such that each number is the sum of the two preceding ones, starting from 0 and 1. That is,\n",
    "\n",
    "F(0) = 0, F(1) = 1\n",
    "F(n) = F(n - 1) + F(n - 2), for n > 1.\n",
    "Given n, calculate F(n).\n",
    "\n",
    " \n",
    "\n",
    "Example 1:\n",
    "\n",
    "Input: n = 2\n",
    "Output: 1\n",
    "Explanation: F(2) = F(1) + F(0) = 1 + 0 = 1.\n",
    "Example 2:\n",
    "\n",
    "Input: n = 3\n",
    "Output: 2\n",
    "Explanation: F(3) = F(2) + F(1) = 1 + 1 = 2.\n",
    "Example 3:\n",
    "\n",
    "Input: n = 4\n",
    "Output: 3\n",
    "Explanation: F(4) = F(3) + F(2) = 2 + 1 = 3.\n",
    " "
   ]
  },
  {
   "cell_type": "markdown",
   "id": "5ccb0f2d-5546-4c0a-979c-9e77414b1b28",
   "metadata": {},
   "source": [
    "runtime 368ms, memory 16.50mb"
   ]
  },
  {
   "cell_type": "code",
   "execution_count": null,
   "id": "0b9d2d80-b295-4652-86d6-35e54878833f",
   "metadata": {},
   "outputs": [],
   "source": [
    "class Solution:\n",
    "    def fib(self, n: int) -> int:\n",
    "        if n == 0:\n",
    "            return 0\n",
    "        if n == 1:\n",
    "            return 1\n",
    "        return self.fib(n-1) + self.fib(n-2)"
   ]
  },
  {
   "cell_type": "markdown",
   "id": "8d2bf8e7-f895-4ea2-852b-4f33293acf30",
   "metadata": {},
   "source": [
    "method 2, do not use recursion, runtime 32ms, memory 16.56mb"
   ]
  },
  {
   "cell_type": "code",
   "execution_count": null,
   "id": "8256adc1-d7d4-459c-af8b-c60fef90e01a",
   "metadata": {},
   "outputs": [],
   "source": [
    "class Solution:\n",
    "    def fib(self, n: int) -> int:\n",
    "        if n == 0:\n",
    "            return 0\n",
    "        if n == 1:\n",
    "            return 1\n",
    "\n",
    "        list = [0, 1]\n",
    "        i = 2\n",
    "        while i <= n:\n",
    "            list.append(list[i-2] + list[i-1])\n",
    "            i += 1\n",
    "            \n",
    "        return list[i-1]"
   ]
  }
 ],
 "metadata": {
  "kernelspec": {
   "display_name": "Python 3 (ipykernel)",
   "language": "python",
   "name": "python3"
  },
  "language_info": {
   "codemirror_mode": {
    "name": "ipython",
    "version": 3
   },
   "file_extension": ".py",
   "mimetype": "text/x-python",
   "name": "python",
   "nbconvert_exporter": "python",
   "pygments_lexer": "ipython3",
   "version": "3.11.7"
  }
 },
 "nbformat": 4,
 "nbformat_minor": 5
}
