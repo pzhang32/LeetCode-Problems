{
 "cells": [
  {
   "cell_type": "markdown",
   "id": "a25f7bf5-38e9-43c1-b8c1-8980048fd982",
   "metadata": {},
   "source": [
    "You are given an m x n integer matrix matrix with the following two properties:\r\n",
    "\r\n",
    "Each row is sorted in non-decreasing order.\r\n",
    "The first integer of each row is greater than the last integer of the previous row.\r\n",
    "Given an integer target, return true if target is in matrix or false otherwise.\r\n",
    "\r\n",
    "You must write a solution in O(log(m * n)) time complexity.\r\n",
    "\r\n",
    " \r\n",
    "\r\n",
    "Example 1:\r\n",
    "\r\n",
    "\r\n",
    "Input: matrix = [[1,3,5,7],[10,11,16,20],[23,30,34,60]], target = 3\n",
    "\r\n",
    "Output: true\r\n",
    "Example 2:\r\n",
    "\r\n",
    "\r\n",
    "Input: matrix = [[1,3,5,7],[10,11,16,20],[23,30,34,60]], target = 13\r\n",
    "Output: false\r\n",
    " "
   ]
  },
  {
   "cell_type": "markdown",
   "id": "1eea26ca-07d3-4c61-82c4-9857dae5f737",
   "metadata": {},
   "source": [
    "my method, runtime 33ms, memory 16.98mb"
   ]
  },
  {
   "cell_type": "markdown",
   "id": "922f5d16-ede9-455e-95b2-5334459edbe5",
   "metadata": {},
   "source": [
    "我的方法比参考好！！！"
   ]
  },
  {
   "cell_type": "code",
   "execution_count": null,
   "id": "01df6633-7a8c-4ad8-a7c6-fd2e6ce19c95",
   "metadata": {},
   "outputs": [],
   "source": [
    "class Solution:\n",
    "    def searchMatrix(self, matrix: List[List[int]], target: int) -> bool:\n",
    "        up = 0\n",
    "        down = len(matrix)-1\n",
    "        while up <= down:\n",
    "            mid = (up + down)//2\n",
    "            if target < matrix[mid][0]:\n",
    "                down = mid - 1\n",
    "            elif target > matrix[mid][0]:\n",
    "                up = mid + 1\n",
    "            else:\n",
    "                return True\n",
    "        \n",
    "        left = 0\n",
    "        right = len(matrix[down])-1\n",
    "        while left <= right:\n",
    "            mid = (left + right)//2\n",
    "            if target < matrix[down][mid]:\n",
    "                right = mid - 1\n",
    "            elif target > matrix[down][mid]:\n",
    "                left = mid + 1\n",
    "            else:\n",
    "                return True\n",
    "\n",
    "        return False"
   ]
  },
  {
   "cell_type": "code",
   "execution_count": null,
   "id": "240fce50-a357-46a7-9d1c-6dbea0e51a49",
   "metadata": {},
   "outputs": [],
   "source": []
  }
 ],
 "metadata": {
  "kernelspec": {
   "display_name": "Python 3 (ipykernel)",
   "language": "python",
   "name": "python3"
  },
  "language_info": {
   "codemirror_mode": {
    "name": "ipython",
    "version": 3
   },
   "file_extension": ".py",
   "mimetype": "text/x-python",
   "name": "python",
   "nbconvert_exporter": "python",
   "pygments_lexer": "ipython3",
   "version": "3.11.7"
  }
 },
 "nbformat": 4,
 "nbformat_minor": 5
}
