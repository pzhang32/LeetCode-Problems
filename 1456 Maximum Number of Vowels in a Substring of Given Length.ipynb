{
 "cells": [
  {
   "cell_type": "markdown",
   "id": "2da61921-6836-4e69-ace4-9092dbc6494b",
   "metadata": {},
   "source": [
    "Given a string s and an integer k, return the maximum number of vowel letters in any substring of s with length k.\n",
    "\n",
    "Vowel letters in English are 'a', 'e', 'i', 'o', and 'u'.\n",
    "\n",
    " \n",
    "\n",
    "Example 1:\n",
    "\n",
    "Input: s = \"abciiidef\", k = 3\n",
    "Output: 3\n",
    "Explanation: The substring \"iii\" contains 3 vowel letters.\n",
    "\n",
    "Example 2:\n",
    "\n",
    "Input: s = \"aeiou\", k = 2\n",
    "Output: 2\n",
    "Explanation: Any substring of length 2 contains 2 vowels.\n",
    "\n",
    "Example 3:\n",
    "\n",
    "Input: s = \"leetcode\", k = 3\n",
    "Output: 2\n",
    "Explanation: \"lee\", \"eet\" and \"ode\" contain 2 vowels.\n",
    " "
   ]
  },
  {
   "cell_type": "markdown",
   "id": "4579d330-670e-4c52-9ca3-a293a7af91fd",
   "metadata": {},
   "source": [
    "mymethod, runtime 188ms, memory 17.63mb"
   ]
  },
  {
   "cell_type": "code",
   "execution_count": null,
   "id": "fc620da5-d953-4a05-9713-b345382293f6",
   "metadata": {},
   "outputs": [],
   "source": [
    "class Solution:\n",
    "    def maxVowels(self, s: str, k: int) -> int:\n",
    "        list = []\n",
    "        for sub_s in s:\n",
    "            list.append(sub_s)\n",
    "        \n",
    "        total = 0\n",
    "        for i in range(k):\n",
    "            if list[i] == 'a' or list[i] == 'e' or list[i] == 'i' or list[i] == 'o' or list[i] == 'u':\n",
    "                total += 1\n",
    "        \n",
    "        i = k\n",
    "        max_total = total\n",
    "        while i < len(list):\n",
    "            if list[i] == 'a' or list[i] == 'e' or list[i] == 'i' or list[i] == 'o' or list[i] == 'u':\n",
    "                total += 1\n",
    "            if list[i-k] == 'a' or list[i-k] == 'e' or list[i-k] == 'i' or list[i-k] == 'o' or list[i-k] == 'u':\n",
    "                total -= 1\n",
    "            max_total = max(max_total, total)\n",
    "            i += 1\n",
    "\n",
    "        return max_total\n",
    "            "
   ]
  },
  {
   "cell_type": "code",
   "execution_count": null,
   "id": "a3de15df-c2a0-4ca0-ad1a-fe4e8e7a84fc",
   "metadata": {},
   "outputs": [],
   "source": [
    "用一个set来存放元音字母，可以减短代码长度，同时减少运算时间\n",
    "runtime 137ms, memory 17.65mb"
   ]
  },
  {
   "cell_type": "code",
   "execution_count": null,
   "id": "31ccb076-94cf-4070-9e3d-c30d947418c6",
   "metadata": {},
   "outputs": [],
   "source": [
    "class Solution:\n",
    "    def maxVowels(self, s: str, k: int) -> int:\n",
    "        vowel = ['a', 'e', 'i', 'o', 'u']\n",
    "        list = []\n",
    "        for sub_s in s:\n",
    "            list.append(sub_s)\n",
    "        \n",
    "        total = 0\n",
    "        for i in range(k):\n",
    "            if list[i] in vowel:\n",
    "                total += 1\n",
    "        \n",
    "        i = k\n",
    "        max_total = total\n",
    "        while i < len(list):\n",
    "            if list[i] in vowel:\n",
    "                total += 1\n",
    "            if list[i-k] in vowel:\n",
    "                total -= 1\n",
    "            max_total = max(max_total, total)\n",
    "            i += 1\n",
    "\n",
    "        return max_total"
   ]
  }
 ],
 "metadata": {
  "kernelspec": {
   "display_name": "Python 3 (ipykernel)",
   "language": "python",
   "name": "python3"
  },
  "language_info": {
   "codemirror_mode": {
    "name": "ipython",
    "version": 3
   },
   "file_extension": ".py",
   "mimetype": "text/x-python",
   "name": "python",
   "nbconvert_exporter": "python",
   "pygments_lexer": "ipython3",
   "version": "3.11.7"
  }
 },
 "nbformat": 4,
 "nbformat_minor": 5
}
