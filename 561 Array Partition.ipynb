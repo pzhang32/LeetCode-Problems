{
  "metadata": {
    "kernelspec": {
      "name": "python",
      "display_name": "Python (Pyodide)",
      "language": "python"
    },
    "language_info": {
      "codemirror_mode": {
        "name": "python",
        "version": 3
      },
      "file_extension": ".py",
      "mimetype": "text/x-python",
      "name": "python",
      "nbconvert_exporter": "python",
      "pygments_lexer": "ipython3",
      "version": "3.8"
    }
  },
  "nbformat_minor": 5,
  "nbformat": 4,
  "cells": [
    {
      "id": "a7f363d6-9ecb-486c-8f9e-02880a3b9d86",
      "cell_type": "markdown",
      "source": "Given an integer array nums of 2n integers, group these integers into n pairs (a1, b1), (a2, b2), ..., (an, bn) such that the sum of min(ai, bi) for all i is maximized. Return the maximized sum.",
      "metadata": {}
    },
    {
      "id": "cb2f8249-cc5f-4f2d-a327-cda9f0ca7b47",
      "cell_type": "code",
      "source": "class Solution:\n    def arrayPairSum(self, nums: List[int]) -> int:\n        nums.sort()\n        \n        result = 0\n        for i in range(0, len(nums), 2):\n            result += nums[i]\n\n        return result",
      "metadata": {
        "trusted": true
      },
      "outputs": [],
      "execution_count": null
    }
  ]
}