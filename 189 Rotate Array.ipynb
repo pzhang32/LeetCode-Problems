{
  "metadata": {
    "kernelspec": {
      "name": "python",
      "display_name": "Python (Pyodide)",
      "language": "python"
    },
    "language_info": {
      "codemirror_mode": {
        "name": "python",
        "version": 3
      },
      "file_extension": ".py",
      "mimetype": "text/x-python",
      "name": "python",
      "nbconvert_exporter": "python",
      "pygments_lexer": "ipython3",
      "version": "3.8"
    }
  },
  "nbformat_minor": 5,
  "nbformat": 4,
  "cells": [
    {
      "id": "63fcd414-a7cf-4b01-b7f0-abc84a57188a",
      "cell_type": "markdown",
      "source": "Given an integer array nums, rotate the array to the right by k steps, where k is non-negative.\n\n \n\nExample 1:\n\nInput: nums = [1,2,3,4,5,6,7], k = 3\nOutput: [5,6,7,1,2,3,4]\nExplanation:\nrotate 1 steps to the right: [7,1,2,3,4,5,6]\nrotate 2 steps to the right: [6,7,1,2,3,4,5]\nrotate 3 steps to the right: [5,6,7,1,2,3,4]\n\n\nExample 2:\n\nInput: nums = [-1,-100,3,99], k = 2\nOutput: [3,99,-1,-100]\nExplanation: \nrotate 1 steps to the right: [99,-1,-100,3]\nrotate 2 steps to the right: [3,99,-1,-100]",
      "metadata": {}
    },
    {
      "id": "071cba97-666d-4d73-ae0e-02ce71e9bf78",
      "cell_type": "markdown",
      "source": "method 1: Accepted, space complexity is O(k), not good enough!",
      "metadata": {}
    },
    {
      "id": "8d1f6c5b-bb2b-4c05-8814-98dc93f0200b",
      "cell_type": "code",
      "source": "class Solution:\n    def rotate(self, nums: List[int], k: int) -> None:\n        \"\"\"\n        Do not return anything, modify nums in-place instead.\n        \"\"\"\n        if len(nums) == 1 or len(nums) == 0:\n            pass\n        else:\n            while k >= len(nums):\n                k = k - len(nums)\n            if k == 0:\n                pass\n            else:\n                temp = []\n                for i in range(k, 0, -1):\n                    temp.append(nums[len(nums)-i])\n                for i in range(len(nums)):\n                    nums[len(nums)-1-i] = nums[len(nums)-1-k-i]\n                for i in range(k):\n                    nums[i] = temp[i]",
      "metadata": {
        "trusted": true
      },
      "outputs": [],
      "execution_count": null
    },
    {
      "id": "50195ae1-45f6-4070-b1e9-a88f02ba2333",
      "cell_type": "markdown",
      "source": "method 2: Time Limit Exceeded, brutal force method!",
      "metadata": {}
    },
    {
      "id": "69d30c31-7953-4027-bacb-ac35af97f006",
      "cell_type": "code",
      "source": "class Solution:\n    def rotate(self, nums: List[int], k: int) -> None:\n        \"\"\"\n        Do not return anything, modify nums in-place instead.\n        \"\"\"\n        for i in range(k):\n            temp = nums[-1]\n            for j in range(len(nums)-1):\n                nums[len(nums)-1-j] = nums[len(nums)-2-j]\n            nums[0] = temp",
      "metadata": {
        "trusted": true
      },
      "outputs": [],
      "execution_count": null
    },
    {
      "id": "469e4f8f-bd98-494b-980c-e2278d06b988",
      "cell_type": "markdown",
      "source": "method 3: reference method",
      "metadata": {}
    },
    {
      "id": "48df9a43-f364-4022-8ec5-83899175b049",
      "cell_type": "code",
      "source": "class Solution:\n    def rotate(self, nums: List[int], k: int) -> None:\n        \"\"\"\n        Do not return anything, modify nums in-place instead.\n        \"\"\"\n        k = k%len(nums)\n        self.reverse(nums, 0, len(nums)-1)\n        self.reverse(nums, 0, k-1)\n        self.reverse(nums, k, len(nums)-1)\n\n    def reverse(self, nums:List[int], left: int, right: int) -> None:\n        while left < right:\n            temp = nums[left]\n            nums[left] = nums[right]\n            nums[right] = temp\n            left += 1\n            right -= 1",
      "metadata": {
        "trusted": true
      },
      "outputs": [],
      "execution_count": null
    },
    {
      "id": "aa64ffbd-ad1b-49ad-9ed3-057a39aa63a7",
      "cell_type": "code",
      "source": "",
      "metadata": {
        "trusted": true
      },
      "outputs": [],
      "execution_count": null
    }
  ]
}