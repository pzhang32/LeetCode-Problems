{
 "cells": [
  {
   "cell_type": "code",
   "execution_count": null,
   "id": "e6f42325-c6e3-447a-b162-b62bc1fe455a",
   "metadata": {},
   "outputs": [],
   "source": [
    "# Definition for singly-linked list.\n",
    "# class ListNode:\n",
    "#     def __init__(self, x):\n",
    "#         self.val = x\n",
    "#         self.next = None\n",
    "\n",
    "class Solution:\n",
    "    def getIntersectionNode(self, headA: ListNode, headB: ListNode) -> Optional[ListNode]:\n",
    "        sizeA = self.getLength(headA)\n",
    "        sizeB = self.getLength(headB)\n",
    "\n",
    "        curA = headA\n",
    "        curB = headB\n",
    "        if sizeA > sizeB:\n",
    "            for i in range(sizeA - sizeB):\n",
    "                curA = curA.next\n",
    "        else:\n",
    "            for i in range(sizeB - sizeA):\n",
    "                curB = curB.next\n",
    "\n",
    "        while curA:\n",
    "            if curA == curB:\n",
    "                return curA\n",
    "            curA = curA.next\n",
    "            curB = curB.next\n",
    "        return None\n",
    "\n",
    "    def getLength(self, head: ListNode):\n",
    "        size = 0\n",
    "        cur = head\n",
    "        while cur:\n",
    "            cur = cur.next\n",
    "            size += 1\n",
    "        return size"
   ]
  }
 ],
 "metadata": {
  "kernelspec": {
   "display_name": "Python 3 (ipykernel)",
   "language": "python",
   "name": "python3"
  },
  "language_info": {
   "codemirror_mode": {
    "name": "ipython",
    "version": 3
   },
   "file_extension": ".py",
   "mimetype": "text/x-python",
   "name": "python",
   "nbconvert_exporter": "python",
   "pygments_lexer": "ipython3",
   "version": "3.11.7"
  }
 },
 "nbformat": 4,
 "nbformat_minor": 5
}
