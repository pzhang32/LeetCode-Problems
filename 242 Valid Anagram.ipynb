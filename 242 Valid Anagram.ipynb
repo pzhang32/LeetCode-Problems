{
 "cells": [
  {
   "cell_type": "markdown",
   "id": "398ae422-1552-49e8-bfdd-851cd8a39786",
   "metadata": {},
   "source": [
    "Given two strings s and t, return true if t is an anagram of s, and false otherwise.\r\n",
    "\r\n",
    "An Anagram is a word or phrase formed by rearranging the letters of a different word or phrase, typically using all the original letters exactly once.\r\n",
    "\r\n",
    " \r\n",
    "\r\n",
    "Example 1:\r\n",
    "\r\n",
    "Input: s = \"anagram\", t = \"nagaram\"\r\n",
    "Output: true\r\n",
    "Example 2:\r\n",
    "\r\n",
    "Input: s = \"rat\", t = \"car\"\r\n",
    "Output: false\r\n",
    " "
   ]
  },
  {
   "cell_type": "code",
   "execution_count": null,
   "id": "53aa847d-77f0-40b4-b191-0fb210cd68fc",
   "metadata": {},
   "outputs": [],
   "source": [
    "class Solution:\n",
    "    def isAnagram(self, s: str, t: str) -> bool:\n",
    "        map1 = self.mapping(s)\n",
    "        map2 = self.mapping(t)\n",
    "        #if map1 == map2:\n",
    "            #return True\n",
    "        #else:\n",
    "            #return False\n",
    "        return map1 == map2 #上面4行用这一句代替更简洁\n",
    "\n",
    "    def mapping(self, s):\n",
    "        map = {}\n",
    "        for key in list(s):\n",
    "            if key not in map:\n",
    "                map[key] = 1\n",
    "            else:\n",
    "                map[key] += 1\n",
    "        return map"
   ]
  },
  {
   "cell_type": "code",
   "execution_count": null,
   "id": "30491f98-5d62-42a3-8a5b-16c053dbbd04",
   "metadata": {},
   "outputs": [],
   "source": []
  }
 ],
 "metadata": {
  "kernelspec": {
   "display_name": "Python 3 (ipykernel)",
   "language": "python",
   "name": "python3"
  },
  "language_info": {
   "codemirror_mode": {
    "name": "ipython",
    "version": 3
   },
   "file_extension": ".py",
   "mimetype": "text/x-python",
   "name": "python",
   "nbconvert_exporter": "python",
   "pygments_lexer": "ipython3",
   "version": "3.11.7"
  }
 },
 "nbformat": 4,
 "nbformat_minor": 5
}
