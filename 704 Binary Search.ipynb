{
 "cells": [
  {
   "cell_type": "markdown",
   "id": "6d5fac9b-31a0-4ec4-92cd-296ce424ad14",
   "metadata": {},
   "source": [
    "Given an array of integers nums which is sorted in ascending order, and an integer target, write a function to search target in nums. If target exists, then return its index. Otherwise, return -1.\n",
    "\n",
    "You must write an algorithm with O(log n) runtime complexity.\n",
    "\n",
    " \n",
    "\n",
    "Example 1:\n",
    "\n",
    "Input: nums = [-1,0,3,5,9,12], target = 9\n",
    "Output: 4\n",
    "Explanation: 9 exists in nums and its index is 4\n",
    "Example 2:\n",
    "\n",
    "Input: nums = [-1,0,3,5,9,12], target = 2\n",
    "Output: -1\n",
    "Explanation: 2 does not exist in nums so return -1\n",
    " "
   ]
  },
  {
   "cell_type": "code",
   "execution_count": 19,
   "id": "c546716f-1c73-489b-b3ad-805e1e7bc70c",
   "metadata": {},
   "outputs": [],
   "source": [
    "# wrong answer!!!\n",
    "class Solution:\n",
    "    def search(self, nums: List[int], target: int) -> int:\n",
    "        left = 0 #\n",
    "        right = len(nums) - 1 #\n",
    "        half = int(0.5*(right + left)) #\n",
    "        while left <= right: #\n",
    "            if target < nums[half]:\n",
    "                right = half - 1\n",
    "                half = int(0.5*(right + left))\n",
    "            elif target > nums[half]:\n",
    "                left = half + 1\n",
    "                half = int(0.5*(right + left))\n",
    "            else:\n",
    "                return half\n",
    "        return -1"
   ]
  },
  {
   "cell_type": "markdown",
   "id": "e88155a4-1f8f-4ad6-8e50-873d6d49f6d0",
   "metadata": {},
   "source": [
    "上面那个有错误会导致运行超时，和下面那个区别是left有无+1，right有无-1，没有+-1会导致原本应返回-1的结果进入无限循环"
   ]
  },
  {
   "cell_type": "code",
   "execution_count": null,
   "id": "ca621ed4-ce80-4b54-9ffd-2933a69b7d6d",
   "metadata": {},
   "outputs": [],
   "source": [
    "# runtime complexity: O(log n)\n",
    "class Solution:\n",
    "    def search(self, nums: List[int], target: int) -> int:\n",
    "        left = 0\n",
    "        right = len(nums) - 1\n",
    "        # 其它语言习惯写成 mid = left + (right - left) // 2 这是为了防止整数溢出\n",
    "        # 但是python通常不会发生这种情况，因为python不用定义数据类型\n",
    "        mid = (right + left)//2 \n",
    "        \n",
    "        while left <= right:\n",
    "            if target == nums[mid]:\n",
    "                return mid\n",
    "            elif target > nums[mid]:\n",
    "                left = mid + 1\n",
    "                mid = (right + left)//2\n",
    "            else:\n",
    "                right = mid - 1\n",
    "                mid = (right + left)//2\n",
    "                \n",
    "        return -1"
   ]
  },
  {
   "cell_type": "code",
   "execution_count": 33,
   "id": "334dcfae-f1ce-4696-a32a-79f976b01ce1",
   "metadata": {},
   "outputs": [],
   "source": [
    "def search(nums, target):\n",
    "        left = 0 #\n",
    "        right = len(nums) - 1 #\n",
    "        half = int(0.5*(right + left)) #\n",
    "        while left <= right: #\n",
    "            if target <= nums[half]:\n",
    "                right = half -1\n",
    "                half = int(0.5*(right + left))\n",
    "            elif target > nums[half]:\n",
    "                left = half +1\n",
    "                half = int(0.5*(right + left))\n",
    "            else:\n",
    "                return half\n",
    "        return -1"
   ]
  },
  {
   "cell_type": "code",
   "execution_count": 34,
   "id": "846c5b6d-82cd-46f6-bb93-adba9404f2dd",
   "metadata": {},
   "outputs": [
    {
     "name": "stdout",
     "output_type": "stream",
     "text": [
      "-1\n"
     ]
    }
   ],
   "source": [
    "nums = [-1,0,3,5,9,12]\n",
    "target = 2\n",
    "\n",
    "result = search(nums, target)\n",
    "print(result)"
   ]
  },
  {
   "cell_type": "code",
   "execution_count": null,
   "id": "86db0967-4fcd-4928-bd72-6e228032e742",
   "metadata": {},
   "outputs": [],
   "source": []
  }
 ],
 "metadata": {
  "kernelspec": {
   "display_name": "Python 3 (ipykernel)",
   "language": "python",
   "name": "python3"
  },
  "language_info": {
   "codemirror_mode": {
    "name": "ipython",
    "version": 3
   },
   "file_extension": ".py",
   "mimetype": "text/x-python",
   "name": "python",
   "nbconvert_exporter": "python",
   "pygments_lexer": "ipython3",
   "version": "3.11.7"
  }
 },
 "nbformat": 4,
 "nbformat_minor": 5
}
