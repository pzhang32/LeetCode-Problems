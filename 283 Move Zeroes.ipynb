{
 "cells": [
  {
   "cell_type": "markdown",
   "id": "5d986d7a-2434-4182-982f-aca0f51c94dd",
   "metadata": {},
   "source": [
    "Given an integer array nums, move all 0's to the end of it while maintaining the relative order of the non-zero elements.\n",
    "\n",
    "Note that you must do this in-place without making a copy of the array.\n",
    "\n",
    " \n",
    "\n",
    "Example 1:\n",
    "\n",
    "Input: nums = [0,1,0,3,12]\n",
    "Output: [1,3,12,0,0]\n",
    "Example 2:\n",
    "\n",
    "Input: nums = [0]\n",
    "Output: [0]"
   ]
  },
  {
   "cell_type": "markdown",
   "id": "b269570c-939e-475f-b0d3-64fb1ca7e1f8",
   "metadata": {},
   "source": [
    "my solution"
   ]
  },
  {
   "cell_type": "code",
   "execution_count": null,
   "id": "1594ccfb-4daa-4184-bd12-5507c7506229",
   "metadata": {},
   "outputs": [],
   "source": [
    "class Solution:\n",
    "    def moveZeroes(self, nums: List[int]) -> None:\n",
    "        \"\"\"\n",
    "        Do not return anything, modify nums in-place instead.\n",
    "        \"\"\"\n",
    "        i = 0\n",
    "        up_limit = len(nums)\n",
    "        while i < up_limit:\n",
    "            if nums[i] == 0:\n",
    "                for j in range(i+1, len(nums)):\n",
    "                    nums[j-1] = nums[j]\n",
    "                nums[up_limit-1] = 0\n",
    "                up_limit -= 1\n",
    "                i -= 1\n",
    "            i += 1"
   ]
  },
  {
   "cell_type": "markdown",
   "id": "9fcd9d0a-17e0-4e52-bd19-34f081f6cc49",
   "metadata": {},
   "source": [
    "method 2 from https://www.bilibili.com/video/BV1sy4y1q79M?p=8&vd_source=bd66a16f3258aa87d3cc4daf025b67ef\n",
    "\n",
    "this method is much better in runtime!"
   ]
  },
  {
   "cell_type": "code",
   "execution_count": null,
   "id": "d4a04fab-ab3c-4916-a68b-9d3eb2293b25",
   "metadata": {},
   "outputs": [],
   "source": [
    "class Solution:\n",
    "    def moveZeroes(self, nums: List[int]) -> None:\n",
    "        \"\"\"\n",
    "        Do not return anything, modify nums in-place instead.\n",
    "        \"\"\"\n",
    "        index = 0\n",
    "        for i in range(0, len(nums)):\n",
    "            if nums[i] != 0:\n",
    "                nums[index] = nums[i]\n",
    "                index += 1\n",
    "\n",
    "        for i in range(index,len(nums)):\n",
    "            nums[i] = 0"
   ]
  }
 ],
 "metadata": {
  "kernelspec": {
   "display_name": "Python 3 (ipykernel)",
   "language": "python",
   "name": "python3"
  },
  "language_info": {
   "codemirror_mode": {
    "name": "ipython",
    "version": 3
   },
   "file_extension": ".py",
   "mimetype": "text/x-python",
   "name": "python",
   "nbconvert_exporter": "python",
   "pygments_lexer": "ipython3",
   "version": "3.11.7"
  }
 },
 "nbformat": 4,
 "nbformat_minor": 5
}
