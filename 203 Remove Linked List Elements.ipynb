{
 "cells": [
  {
   "cell_type": "markdown",
   "id": "76ae9a8d-25e2-483a-b67e-7cb2d601bac6",
   "metadata": {},
   "source": [
    "Given the head of a linked list and an integer val, remove all the nodes of the linked list that has Node.val == val, and return the new head.\r\n",
    "\r\n",
    " \r\n",
    "\r\n",
    "Example 1:\r\n",
    "\r\n",
    "\r\n",
    "Input: head = [1,2,6,3,4,5,6], val = 6\r\n",
    "Output: [1,2,3,4,5]\r\n",
    "Example 2:\r\n",
    "\r\n",
    "Input: head = [], val = 1\r\n",
    "Output: []\r\n",
    "Example 3:\r\n",
    "\r\n",
    "Input: head = [7,7,7,7], val = 7\r\n",
    "Output: []"
   ]
  },
  {
   "cell_type": "markdown",
   "id": "5f0b35af-0543-4d07-8a57-70f444df4451",
   "metadata": {},
   "source": [
    "my solution, wrong"
   ]
  },
  {
   "cell_type": "code",
   "execution_count": null,
   "id": "1328fed5-eb84-43fa-8479-683a095f2c76",
   "metadata": {},
   "outputs": [],
   "source": [
    "# Definition for singly-linked list.\n",
    "# class ListNode:\n",
    "#     def __init__(self, val=0, next=None):\n",
    "#         self.val = val\n",
    "#         self.next = next\n",
    "class Solution:\n",
    "    def removeElements(self, head: Optional[ListNode], val: int) -> Optional[ListNode]:\n",
    "        \n",
    "        pre_node = ListNode(0)\n",
    "        curr_node = head\n",
    "        pre_node.next = curr_node\n",
    "        \n",
    "        while curr_node != None:\n",
    "            if curr_node.val == val:\n",
    "                pre_node.next = curr_node.next\n",
    "                #curr_node.next = None\n",
    "                curr_node = curr_node.next\n",
    "            else:\n",
    "                pre_node = curr_node\n",
    "                curr_node = curr_node.next\n",
    "\n",
    "        return head"
   ]
  },
  {
   "cell_type": "markdown",
   "id": "0852d5cb-98a7-4305-b27b-c13f9539d121",
   "metadata": {},
   "source": [
    "method 2 https://www.bilibili.com/read/cv8585621/\n",
    "\n",
    "没看出有什么区别但为什么结果就不一样？？"
   ]
  },
  {
   "cell_type": "code",
   "execution_count": null,
   "id": "62d51149-2927-4525-9348-52eddbceecb0",
   "metadata": {},
   "outputs": [],
   "source": [
    "class Solution:\n",
    "    def removeElements(self, head: Optional[ListNode], val: int) -> Optional[ListNode]:\n",
    "        dummy = ListNode(0, head)\n",
    "        prev = dummy\n",
    "        while head is not None:\n",
    "            if head.val == val:\n",
    "                prev.next = head.next\n",
    "            else:\n",
    "                prev = prev.next # prev.next 可以改成 head 但速度会慢很多，不知道为什么\n",
    "            head = head.next\n",
    "        return dummy.next\n",
    "                "
   ]
  }
 ],
 "metadata": {
  "kernelspec": {
   "display_name": "Python 3 (ipykernel)",
   "language": "python",
   "name": "python3"
  },
  "language_info": {
   "codemirror_mode": {
    "name": "ipython",
    "version": 3
   },
   "file_extension": ".py",
   "mimetype": "text/x-python",
   "name": "python",
   "nbconvert_exporter": "python",
   "pygments_lexer": "ipython3",
   "version": "3.11.7"
  }
 },
 "nbformat": 4,
 "nbformat_minor": 5
}
