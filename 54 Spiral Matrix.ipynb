{
  "metadata": {
    "kernelspec": {
      "name": "python",
      "display_name": "Python (Pyodide)",
      "language": "python"
    },
    "language_info": {
      "codemirror_mode": {
        "name": "python",
        "version": 3
      },
      "file_extension": ".py",
      "mimetype": "text/x-python",
      "name": "python",
      "nbconvert_exporter": "python",
      "pygments_lexer": "ipython3",
      "version": "3.8"
    }
  },
  "nbformat_minor": 5,
  "nbformat": 4,
  "cells": [
    {
      "id": "f98c5ce5-5aaf-4d9a-b9e8-53b4767a14cf",
      "cell_type": "markdown",
      "source": "Given an m x n matrix, return all elements of the matrix in spiral order.",
      "metadata": {}
    },
    {
      "id": "0a40905d-2bfa-4d37-b75b-7e9bbbb3f386",
      "cell_type": "code",
      "source": "class Solution:\n    def spiralOrder(self, matrix: List[List[int]]) -> List[int]:\n        m = len(matrix)\n        n = len(matrix[0])\n        res = []\n\n        row_up = 0\n        row_down = m - 1\n        col_left = 0\n        col_right = n - 1\n\n        while row_up <= row_down and col_left <= col_right:\n            i = row_up\n            for j in range(col_left, col_right+1):\n                res.append(matrix[i][j])\n            row_up += 1\n\n            j = col_right\n            for i in range(row_up, row_down+1):\n                res.append(matrix[i][j])\n            col_right -= 1\n\n            i = row_down\n            if row_up <= row_down:\n                for j in range(col_right, col_left-1, -1):\n                    res.append(matrix[i][j])\n            row_down -= 1\n\n            j = col_left\n            if col_left <= col_right:\n                for i in range(row_down, row_up-1, -1):\n                    res.append(matrix[i][j])\n            col_left += 1\n\n        return res",
      "metadata": {
        "trusted": true
      },
      "outputs": [],
      "execution_count": null
    }
  ]
}