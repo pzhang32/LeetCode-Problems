{
 "cells": [
  {
   "cell_type": "markdown",
   "id": "d9806ea6-6e70-45bc-b5a7-c28b56f175af",
   "metadata": {},
   "source": [
    "Given head, the head of a linked list, determine if the linked list has a cycle in it.\r\n",
    "\r\n",
    "There is a cycle in a linked list if there is some node in the list that can be reached again by continuously following the next pointer. Internally, pos is used to denote the index of the node that tail's next pointer is connected to. Note that pos is not passed as a parameter.\r\n",
    "\r\n",
    "Return true if there is a cycle in the linked list. Otherwise, return false.\r\n",
    "\r\n",
    " \r\n",
    "\r\n",
    "Example 1:\r\n",
    "\r\n",
    "\r\n",
    "Input: head = [3,2,0,-4], pos = 1\r\n",
    "Output: true\r\n",
    "Explanation: There is a cycle in the linked list, where the tail connects to the 1st node (0-indexed).\r\n",
    "Example 2:\r\n",
    "\r\n",
    "\r\n",
    "Input: head = [1,2], pos = 0\r\n",
    "Output: true\r\n",
    "Explanation: There is a cycle in the linked list, where the tail connects to the 0th node.\r\n",
    "Example 3:\r\n",
    "\r\n",
    "\r\n",
    "Input: head = [1], pos = -1\r\n",
    "Output: false\r\n",
    "Explanation: There is no cycle in the linked list.\r\n",
    " "
   ]
  },
  {
   "cell_type": "markdown",
   "id": "133076c5-4a4d-4b5f-af97-178801f16037",
   "metadata": {},
   "source": [
    "method 1, runtime 53ms, memory 19.04mb"
   ]
  },
  {
   "cell_type": "code",
   "execution_count": null,
   "id": "6fa180ff-e622-47ad-8340-4627a6c867f0",
   "metadata": {},
   "outputs": [],
   "source": [
    "# Definition for singly-linked list.\n",
    "# class ListNode:\n",
    "#     def __init__(self, x):\n",
    "#         self.val = x\n",
    "#         self.next = None\n",
    "\n",
    "class Solution:\n",
    "    def hasCycle(self, head: Optional[ListNode]) -> bool:\n",
    "        fast = head\n",
    "        slow = head\n",
    "        if head == None:\n",
    "            return False\n",
    "        while fast.next != None and fast.next.next != None:\n",
    "            fast = fast.next.next\n",
    "            slow = slow.next\n",
    "            if fast == slow:\n",
    "                return True\n",
    "        return False"
   ]
  }
 ],
 "metadata": {
  "kernelspec": {
   "display_name": "Python 3 (ipykernel)",
   "language": "python",
   "name": "python3"
  },
  "language_info": {
   "codemirror_mode": {
    "name": "ipython",
    "version": 3
   },
   "file_extension": ".py",
   "mimetype": "text/x-python",
   "name": "python",
   "nbconvert_exporter": "python",
   "pygments_lexer": "ipython3",
   "version": "3.11.7"
  }
 },
 "nbformat": 4,
 "nbformat_minor": 5
}
