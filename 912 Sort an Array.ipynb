{
  "metadata": {
    "kernelspec": {
      "name": "python",
      "display_name": "Python (Pyodide)",
      "language": "python"
    },
    "language_info": {
      "codemirror_mode": {
        "name": "python",
        "version": 3
      },
      "file_extension": ".py",
      "mimetype": "text/x-python",
      "name": "python",
      "nbconvert_exporter": "python",
      "pygments_lexer": "ipython3",
      "version": "3.8"
    }
  },
  "nbformat_minor": 5,
  "nbformat": 4,
  "cells": [
    {
      "id": "ab9cc067-4b27-40c1-a5cd-8504669c0fc8",
      "cell_type": "markdown",
      "source": "Given an array of integers nums, sort the array in ascending order and return it.\n\nYou must solve the problem without using any built-in functions in O(nlog(n)) time complexity and with the smallest space complexity possible.",
      "metadata": {}
    },
    {
      "id": "2830726d-c10b-4ee1-8bb4-5af28ff15990",
      "cell_type": "markdown",
      "source": "method 1: quick sort, Time Limit Exceeded",
      "metadata": {}
    },
    {
      "id": "8c97d33a-4fb7-48c5-b479-9c84a0cf40f0",
      "cell_type": "code",
      "source": "import random\n\nclass Solution:\n    def sortArray(self, nums: List[int]) -> List[int]:\n        self.quickSort(nums)\n\n        return nums\n\n    def quickSort(self, nums: List[int], low: int = 0, high: int = None):\n        if high == None:\n            high = len(nums) - 1\n\n        if low < high:\n            pivot_index = random.randint(low, high)\n            nums[pivot_index], nums[high] = nums[high], nums[pivot_index]\n            pivot_pos = self.partition(nums, low, high)\n            self.quickSort(nums, low, pivot_pos-1)\n            self.quickSort(nums, pivot_pos+1, high)\n        \n\n    def partition(self, nums: List[int], low: int, high: int) -> int:\n        i = low - 1\n        for j in range(low, high):\n            if nums[j] < nums[high]:\n                i += 1\n                nums[i], nums[j] = nums[j], nums[i]\n\n        nums[i+1], nums[high] = nums[high], nums[i+1]\n        return i + 1\n        ",
      "metadata": {
        "trusted": true
      },
      "outputs": [],
      "execution_count": null
    },
    {
      "id": "24968cc5-34f3-4530-9695-c319733a7d97",
      "cell_type": "code",
      "source": "method 2: 3-way quicksort, Accepted",
      "metadata": {
        "trusted": true
      },
      "outputs": [],
      "execution_count": null
    },
    {
      "id": "06dd23ec-c262-4d6f-8c3e-f9b56747d6d0",
      "cell_type": "code",
      "source": "class Solution:\n    def sortArray(self, nums: List[int]) -> List[int]:\n        self.quickSort(nums)\n\n        return nums\n        \n    def quickSort(self, nums, low=0, high=None):\n        if high is None:\n            high = len(nums) - 1\n            \n        if low < high:\n            pivot_index = random.randint(low, high)\n            nums[pivot_index], nums[high] = nums[high], nums[pivot_index]\n            \n            lt, gt = self.partition3way(nums, low, high)\n            self.quickSort(nums, low, lt-1)\n            self.quickSort(nums, gt+1, high)\n    \n    def partition3way(self, nums, low, high):\n        pivot = nums[high]\n        lt = low\n        gt = high\n        i = low\n        \n        while i <= gt:\n            if nums[i] < pivot:\n                nums[lt], nums[i] = nums[i], nums[lt]\n                lt += 1\n                i += 1\n            elif nums[i] > pivot:\n                nums[i], nums[gt] = nums[gt], nums[i]\n                gt -= 1\n            else:\n                i += 1\n        \n        return lt, gt\n        ",
      "metadata": {
        "trusted": true
      },
      "outputs": [],
      "execution_count": null
    },
    {
      "id": "50936a43-e859-4886-9940-aafd4acffa06",
      "cell_type": "markdown",
      "source": "mmethod 3: merge sort, Accepted",
      "metadata": {}
    },
    {
      "id": "8aea40b3-ba37-4a77-a36a-50ddd3157422",
      "cell_type": "code",
      "source": "class Solution:\n    def sortArray(self, nums: List[int]) -> List[int]:\n        return self.mergeSort(nums)\n        \n    def mergeSort(self, nums: List[int]) -> List[int]:\n        if len(nums) <= 1:\n            return nums\n\n        mid = len(nums)//2\n        left = nums[:mid]\n        right = nums[mid:]\n\n        sortedLeft = self.mergeSort(left)\n        sortedRight = self.mergeSort(right)\n\n        return self.merge(sortedLeft, sortedRight)\n\n    def merge(self, left: List[int], right: List[int]) -> List[int]:\n        result = []\n        i, j = 0, 0\n        while i < len(left) and j < len(right):\n            if left[i] < right[j]:\n                result.append(left[i])\n                i += 1\n            else:\n                result.append(right[j])\n                j += 1\n\n        while i < len(left):\n            result.append(left[i])\n            i += 1\n\n        while j < len(right):\n            result.append(right[j])\n            j += 1\n\n        return result\n        ",
      "metadata": {
        "trusted": true
      },
      "outputs": [],
      "execution_count": null
    }
  ]
}