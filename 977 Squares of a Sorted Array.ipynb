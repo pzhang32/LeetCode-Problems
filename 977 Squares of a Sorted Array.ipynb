{
 "cells": [
  {
   "cell_type": "markdown",
   "id": "d901679a-8233-4a0d-8fa1-a868aa4855b0",
   "metadata": {},
   "source": [
    "Given an integer array nums sorted in non-decreasing order, return an array of the squares of each number sorted in non-decreasing order.\n",
    "\n",
    " \n",
    "\n",
    "Example 1:\n",
    "\n",
    "Input: nums = [-4,-1,0,3,10]\n",
    "Output: [0,1,9,16,100]\n",
    "Explanation: After squaring, the array becomes [16,1,0,9,100].\n",
    "After sorting, it becomes [0,1,9,16,100].\n",
    "Example 2:\n",
    "\n",
    "Input: nums = [-7,-3,2,3,11]\n",
    "Output: [4,9,9,49,121]\n",
    " "
   ]
  },
  {
   "cell_type": "markdown",
   "id": "fabb7c8f-81a0-48ce-b7a8-31bf7e158dda",
   "metadata": {},
   "source": [
    "Runtime 161ms, Beats 26.91%, Memory 18.82MB, Beats 28.19%"
   ]
  },
  {
   "cell_type": "code",
   "execution_count": null,
   "id": "e76db8bb-a98c-4468-96da-e42b0b769ee9",
   "metadata": {},
   "outputs": [],
   "source": [
    "class Solution:\n",
    "    def sortedSquares(self, nums: List[int]) -> List[int]:\n",
    "        list = len(nums)*[-1]\n",
    "        i = len(list) - 1\n",
    "        left = 0\n",
    "        right = len(nums) - 1\n",
    "        while left <= right and i >= 0:\n",
    "            if nums[left]*nums[left] > nums[right]*nums[right]: # nums[left]*nums[left] 可以写成 nums[left] ** 2\n",
    "                list[i] = nums[left]*nums[left]\n",
    "                left += 1\n",
    "            else:\n",
    "                list[i] = nums[right]*nums[right]\n",
    "                right -= 1\n",
    "            i -= 1\n",
    "\n",
    "        return list"
   ]
  },
  {
   "cell_type": "code",
   "execution_count": null,
   "id": "28e6e44e-f3f9-450c-bd2c-586bca882438",
   "metadata": {},
   "outputs": [],
   "source": []
  },
  {
   "cell_type": "code",
   "execution_count": null,
   "id": "1dad5472-ebf2-4f2a-b17c-fcf268ba88d5",
   "metadata": {},
   "outputs": [],
   "source": []
  }
 ],
 "metadata": {
  "kernelspec": {
   "display_name": "Python 3 (ipykernel)",
   "language": "python",
   "name": "python3"
  },
  "language_info": {
   "codemirror_mode": {
    "name": "ipython",
    "version": 3
   },
   "file_extension": ".py",
   "mimetype": "text/x-python",
   "name": "python",
   "nbconvert_exporter": "python",
   "pygments_lexer": "ipython3",
   "version": "3.11.7"
  }
 },
 "nbformat": 4,
 "nbformat_minor": 5
}
