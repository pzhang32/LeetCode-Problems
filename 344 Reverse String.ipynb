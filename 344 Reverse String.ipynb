{
 "cells": [
  {
   "cell_type": "markdown",
   "id": "19df5dcc-2cd6-4e47-ba6c-0b3fb4eea3a8",
   "metadata": {},
   "source": [
    "Write a function that reverses a string. The input string is given as an array of characters s.\r\n",
    "\r\n",
    "You must do this by modifying the input array in-place with O(1) extra memory.\r\n",
    "\r\n",
    " \r\n",
    "\r\n",
    "Example 1:\r\n",
    "\r\n",
    "Input: s = [\"h\",\"e\",\"l\",\"l\",\"o\"]\r\n",
    "Output: [\"o\",\"l\",\"l\",\"e\",\"h\"]\r\n",
    "Example 2:\r\n",
    "\r\n",
    "Input: s = [\"H\",\"a\",\"n\",\"n\",\"a\",\"h\"]\r\n",
    "Output: [\"h\",\"a\",\"n\",\"n\",\"a\",\"H\"]"
   ]
  },
  {
   "cell_type": "markdown",
   "id": "97a2e178-8238-4251-a8a3-719d77ad85d7",
   "metadata": {},
   "source": [
    "method 1, two pointers. Runtime 176ms, memory 21.00mb"
   ]
  },
  {
   "cell_type": "code",
   "execution_count": null,
   "id": "0e6157f3-9174-4746-9ffc-0005a4436455",
   "metadata": {},
   "outputs": [],
   "source": [
    "class Solution:\n",
    "    def reverseString(self, s: List[str]) -> None:\n",
    "        \"\"\"\n",
    "        Do not return anything, modify s in-place instead.\n",
    "        \"\"\"\n",
    "        i = 0\n",
    "        j = len(s) - 1\n",
    "        while i <= j:\n",
    "            temp = s[i] # 这三句可以简化成 s[i], s[j] = s[j], s[i]\n",
    "            s[i] = s[j] #\n",
    "            s[j] = temp #\n",
    "            i += 1\n",
    "            j -= 1"
   ]
  },
  {
   "cell_type": "markdown",
   "id": "38c94875-4dcd-403c-ac3f-b7cc43dd9a6e",
   "metadata": {},
   "source": [
    "method 2, recursion\n",
    "https://www.bilibili.com/read/cv8964822/"
   ]
  },
  {
   "cell_type": "code",
   "execution_count": null,
   "id": "770f4a75-06ff-428b-8772-af16141e43cd",
   "metadata": {},
   "outputs": [],
   "source": [
    "class Solution:\n",
    "    def reverseString(self, s: List[str]) -> None:\n",
    "        \"\"\"\n",
    "        Do not return anything, modify s in-place instead.\n",
    "        \"\"\"\n",
    "        # stop condition\n",
    "        # recursion\n",
    "        self.rec(s, 0, len(s)-1)\n",
    "\n",
    "    def rec(self, s, i, j):\n",
    "        if i > j: # stop condition\n",
    "            return\n",
    "        self.rec(self, s, i+1, j-1) # recursion\n",
    "        s[i], s[j] = s[j], s[i] # method"
   ]
  }
 ],
 "metadata": {
  "kernelspec": {
   "display_name": "Python 3 (ipykernel)",
   "language": "python",
   "name": "python3"
  },
  "language_info": {
   "codemirror_mode": {
    "name": "ipython",
    "version": 3
   },
   "file_extension": ".py",
   "mimetype": "text/x-python",
   "name": "python",
   "nbconvert_exporter": "python",
   "pygments_lexer": "ipython3",
   "version": "3.11.7"
  }
 },
 "nbformat": 4,
 "nbformat_minor": 5
}
