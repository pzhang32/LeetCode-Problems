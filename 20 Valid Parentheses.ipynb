{
 "cells": [
  {
   "cell_type": "markdown",
   "id": "1ce41ee7-2bc8-4edb-9330-a3d4b3de9172",
   "metadata": {},
   "source": [
    "Given a string s containing just the characters '(', ')', '{', '}', '[' and ']', determine if the input string is valid.\r\n",
    "\r\n",
    "An input string is valid if:\r\n",
    "\r\n",
    "Open brackets must be closed by the same type of brackets.\r\n",
    "Open brackets must be closed in the correct order.\r\n",
    "Every close bracket has a corresponding open bracket of the same type.\r\n",
    " \r\n",
    "\r\n",
    "Example 1:\r\n",
    "\r\n",
    "Input: s = \"()\"\r\n",
    "Output: true\r\n",
    "Example 2:\r\n",
    "\r\n",
    "Input: s = \"()[]{}\"\r\n",
    "Output: true\r\n",
    "Example 3:\r\n",
    "\r\n",
    "Input: s = \"(]\"\r\n",
    "Output: false\r\n",
    " "
   ]
  },
  {
   "cell_type": "markdown",
   "id": "70f0806c-eb5d-42ed-a050-5c7a4ecc546e",
   "metadata": {},
   "source": [
    "my solution, runtime 30 ms, memory 16.62 mb"
   ]
  },
  {
   "cell_type": "code",
   "execution_count": null,
   "id": "b39f7da7-2ecc-4596-99df-c5f2beafab25",
   "metadata": {},
   "outputs": [],
   "source": [
    "class Solution:\n",
    "    def isValid(self, s: str) -> bool:\n",
    "        if len(s) == 0:\n",
    "            return True\n",
    "        stack = []\n",
    "        for i in s:\n",
    "            if i == \"(\" or i == \"[\" or i == \"{\":\n",
    "                stack.append(i)\n",
    "            elif (i == \")\" or i == \"]\" or i == \"}\") and len(stack) == 0:\n",
    "                return False\n",
    "            elif i == \")\" and stack[-1] == \"(\":\n",
    "                stack.pop()\n",
    "            elif i == \"]\" and stack[-1] == \"[\":\n",
    "                stack.pop()\n",
    "            elif i == \"}\" and stack[-1] == \"{\":\n",
    "                stack.pop()\n",
    "            \n",
    "            else:\n",
    "                return False\n",
    "\n",
    "        if len(stack) == 0:\n",
    "            return True\n",
    "        else:\n",
    "            return False"
   ]
  },
  {
   "cell_type": "code",
   "execution_count": 3,
   "id": "86e2e634-45a3-49c4-b91e-666f3cbec030",
   "metadata": {},
   "outputs": [
    {
     "name": "stdout",
     "output_type": "stream",
     "text": [
      "['(', ')', '[', ']', '{', '}']\n"
     ]
    }
   ],
   "source": [
    "s = \"()[]{}\"\n",
    "stack = []\n",
    "for i in s:\n",
    "    stack.append(i)\n",
    "    #print(i)\n",
    "print(stack)"
   ]
  },
  {
   "cell_type": "code",
   "execution_count": 4,
   "id": "5fdaf2fc-2149-4070-9d07-d60130d3099b",
   "metadata": {},
   "outputs": [
    {
     "name": "stdout",
     "output_type": "stream",
     "text": [
      "}\n"
     ]
    }
   ],
   "source": [
    "print(stack[-1])"
   ]
  },
  {
   "cell_type": "code",
   "execution_count": 6,
   "id": "5b6ed327-59d0-4428-9aef-4f645c777404",
   "metadata": {},
   "outputs": [
    {
     "name": "stdout",
     "output_type": "stream",
     "text": [
      "['(', ')', '[', ']', '{']\n"
     ]
    }
   ],
   "source": [
    "stack.pop()\n",
    "print(stack)"
   ]
  },
  {
   "cell_type": "code",
   "execution_count": 8,
   "id": "c80b3ea4-4f11-4e32-bb3d-26373f8aa918",
   "metadata": {},
   "outputs": [
    {
     "name": "stdout",
     "output_type": "stream",
     "text": [
      "[]\n"
     ]
    }
   ],
   "source": [
    "s = \"()[]{}\"\n",
    "stack = []\n",
    "for i in s:\n",
    "            if i == \"(\" or i == \"[\" or i == \"{\":\n",
    "                stack.append(i)\n",
    "            elif i == \")\" and stack[-1] == \"(\":\n",
    "                stack.pop()\n",
    "            elif i == \"]\" and stack[-1] == \"[\":\n",
    "                stack.pop()\n",
    "            elif i == \"}\" and stack[-1] == \"{\":\n",
    "                stack.pop()\n",
    "\n",
    "print(stack)"
   ]
  },
  {
   "cell_type": "code",
   "execution_count": null,
   "id": "8ddde225-8654-4f14-9ec7-fe14913dbbc5",
   "metadata": {},
   "outputs": [],
   "source": []
  }
 ],
 "metadata": {
  "kernelspec": {
   "display_name": "Python 3 (ipykernel)",
   "language": "python",
   "name": "python3"
  },
  "language_info": {
   "codemirror_mode": {
    "name": "ipython",
    "version": 3
   },
   "file_extension": ".py",
   "mimetype": "text/x-python",
   "name": "python",
   "nbconvert_exporter": "python",
   "pygments_lexer": "ipython3",
   "version": "3.11.7"
  }
 },
 "nbformat": 4,
 "nbformat_minor": 5
}
