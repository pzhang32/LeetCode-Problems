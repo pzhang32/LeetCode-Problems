{
  "metadata": {
    "kernelspec": {
      "name": "python",
      "display_name": "Python (Pyodide)",
      "language": "python"
    },
    "language_info": {
      "codemirror_mode": {
        "name": "python",
        "version": 3
      },
      "file_extension": ".py",
      "mimetype": "text/x-python",
      "name": "python",
      "nbconvert_exporter": "python",
      "pygments_lexer": "ipython3",
      "version": "3.8"
    }
  },
  "nbformat_minor": 5,
  "nbformat": 4,
  "cells": [
    {
      "id": "1d6165b9-153e-4f08-9ec8-b01b1741c24e",
      "cell_type": "markdown",
      "source": "Given two arrays arr1 and arr2, the elements of arr2 are distinct, and all elements in arr2 are also in arr1.\n\nSort the elements of arr1 such that the relative ordering of items in arr1 are the same as in arr2. Elements that do not appear in arr2 should be placed at the end of arr1 in ascending order.\n\n \n\nExample 1:\n\nInput: arr1 = [2,3,1,3,2,4,6,7,9,2,19], arr2 = [2,1,4,3,9,6]\nOutput: [2,2,2,1,4,3,3,9,6,7,19]\n\nExample 2:\n\nInput: arr1 = [28,6,22,8,44,17], arr2 = [22,28,8,6]\nOutput: [22,28,8,6,17,44]",
      "metadata": {}
    },
    {
      "id": "25d6114d-db85-4dde-ad70-06576170a081",
      "cell_type": "code",
      "source": "class Solution:\n    def relativeSortArray(self, arr1: List[int], arr2: List[int]) -> List[int]:\n        count_dict = {key: 0 for key in arr2}\n        not_in_arr2 = []\n        for i in arr1:\n            if i in count_dict:\n                count_dict[i] += 1\n            else:\n                not_in_arr2.append(i)\n\n        result = []\n        for key in count_dict:\n                result.extend([key] * count_dict[key])\n        not_in_arr2.sort()\n        result.extend(not_in_arr2)\n\n        return result\n            ",
      "metadata": {
        "trusted": true
      },
      "outputs": [],
      "execution_count": null
    }
  ]
}