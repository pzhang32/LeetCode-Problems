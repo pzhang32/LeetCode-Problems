{
 "cells": [
  {
   "cell_type": "markdown",
   "id": "1b683478-fd25-4fc6-a21a-73ada9bfdbe5",
   "metadata": {},
   "source": [
    "Given an integer array nums sorted in non-decreasing order, remove the duplicates in-place such that each unique element appears only once. The relative order of the elements should be kept the same. Then return the number of unique elements in nums.\r\n",
    "\r\n",
    "Consider the number of unique elements of nums to be k, to get accepted, you need to do the following things:\r\n",
    "\r\n",
    "Change the array nums such that the first k elements of nums contain the unique elements in the order they were present in nums initially. The remaining elements of nums are not important as well as the size of nums.\r\n",
    "Return k.\r\n",
    "Custom Judge:\r\n",
    "\r\n",
    "The judge will test your solution with the following code:\r\n",
    "\r\n",
    "int[] nums = [...]; // Input array\r\n",
    "int[] expectedNums = [...]; // The expected answer with correct length\r\n",
    "\r\n",
    "int k = removeDuplicates(nums); // Calls your implementation\r\n",
    "\r\n",
    "assert k == expectedNums.length;\r\n",
    "for (int i = 0; i < k; i++) {\r\n",
    "    assert nums[i] == expectedNums[i];\r\n",
    "}\r\n",
    "If all assertions pass, then your solution will be accepted.\r\n",
    "\r\n",
    " \r\n",
    "\r\n",
    "Example 1:\r\n",
    "\r\n",
    "Input: nums = [1,1,2]\r\n",
    "Output: 2, nums = [1,2,_]\r\n",
    "Explanation: Your function should return k = 2, with the first two elements of nums being 1 and 2 respectively.\r\n",
    "It does not matter what you leave beyond the returned k (hence they are underscores).\r\n",
    "Example 2:\r\n",
    "\r\n",
    "Input: nums = [0,0,1,1,1,2,2,3,3,4]\r\n",
    "Output: 5, nums = [0,1,2,3,4,_,_,_,_,_]\r\n",
    "Explanation: Your function should return k = 5, with the first five elements of nums being 0, 1, 2, 3, and 4 respectively.\r\n",
    "It does not matter what you leave beyond the returned k (hence they are underscores).\r\n",
    " "
   ]
  },
  {
   "cell_type": "markdown",
   "id": "226ac6b7-c037-43b9-9a0d-3de4d725b3ac",
   "metadata": {},
   "source": [
    "Runtime \n",
    "7\r\n",
    ", s\r\n",
    "Be ts\r\n",
    "70, xity\r\n",
    " emory\n",
    "1, .88\r\n",
    " B\r\n",
    "Beats\r\n",
    "81.11%"
   ]
  },
  {
   "cell_type": "code",
   "execution_count": null,
   "id": "a154e853-1195-430d-84be-08be74fe9159",
   "metadata": {},
   "outputs": [],
   "source": [
    "class Solution:\n",
    "    def removeDuplicates(self, nums: List[int]) -> int:\n",
    "        fast = slow = 0\n",
    "        nums[slow] = nums[fast]\n",
    "        \n",
    "        while fast < len(nums)-1:\n",
    "            if nums[fast] == nums[fast+1]:\n",
    "                fast += 1\n",
    "            else:\n",
    "                fast += 1\n",
    "                slow += 1\n",
    "                nums[slow] = nums[fast]\n",
    "\n",
    "        if nums[fast] != nums[fast-1]:\n",
    "            nums[slow] = nums[fast]\n",
    "\n",
    "        return slow+1"
   ]
  },
  {
   "cell_type": "markdown",
   "id": "d986d2dd-133b-43a3-b3d6-aa02fce230c2",
   "metadata": {},
   "source": [
    "better method\n",
    "https://algo.itcharge.cn/Solutions/0001-0099/remove-duplicates-from-sorted-array/#%E9%A2%98%E7%9B%AE%E5%A4%A7%E6%84%8F"
   ]
  },
  {
   "cell_type": "code",
   "execution_count": null,
   "id": "21596a4a-3f18-4f59-8027-c4c65f61edae",
   "metadata": {},
   "outputs": [],
   "source": [
    "class Solution:\n",
    "    def removeDuplicates(self, nums: List[int]) -> int:\n",
    "        slow = 0\n",
    "        fast = 1\n",
    "        while fast < len(nums):\n",
    "            if nums[slow] != nums[fast]:\n",
    "                slow += 1\n",
    "                nums[slow] = nums[fast]\n",
    "            fast += 1\n",
    "\n",
    "        return slow+1"
   ]
  }
 ],
 "metadata": {
  "kernelspec": {
   "display_name": "Python 3 (ipykernel)",
   "language": "python",
   "name": "python3"
  },
  "language_info": {
   "codemirror_mode": {
    "name": "ipython",
    "version": 3
   },
   "file_extension": ".py",
   "mimetype": "text/x-python",
   "name": "python",
   "nbconvert_exporter": "python",
   "pygments_lexer": "ipython3",
   "version": "3.11.7"
  }
 },
 "nbformat": 4,
 "nbformat_minor": 5
}
