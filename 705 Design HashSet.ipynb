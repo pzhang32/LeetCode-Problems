{
 "cells": [
  {
   "cell_type": "markdown",
   "id": "4c81cc8e-8b45-4ecf-bdc4-b3d656a9a7e7",
   "metadata": {},
   "source": [
    "Design a HashSet without using any built-in hash table libraries.\n",
    "\n",
    "Implement MyHashSet class:\n",
    "\n",
    "void add(key) Inserts the value key into the HashSet.\n",
    "bool contains(key) Returns whether the value key exists in the HashSet or not.\n",
    "void remove(key) Removes the value key in the HashSet. If key does not exist in the HashSet, do nothing.\n",
    " \n",
    "\n",
    "Example 1:\n",
    "\n",
    "Input\n",
    "[\"MyHashSet\", \"add\", \"add\", \"contains\", \"contains\", \"add\", \"contains\", \"remove\", \"contains\"]\n",
    "[[], [1], [2], [1], [3], [2], [2], [2], [2]]\n",
    "Output\n",
    "[null, null, null, true, false, null, true, null, false]\n",
    "\n",
    "Explanation\n",
    "MyHashSet myHashSet = new MyHashSet();\n",
    "myHashSet.add(1);      // set = [1]\n",
    "myHashSet.add(2);      // set = [1, 2]\n",
    "myHashSet.contains(1); // return True\n",
    "myHashSet.contains(3); // return False, (not found)\n",
    "myHashSet.add(2);      // set = [1, 2]\n",
    "myHashSet.contains(2); // return True\n",
    "myHashSet.remove(2);   // set = [1]\n",
    "myHashSet.contains(2); // return False, (already removed)\n",
    " "
   ]
  },
  {
   "cell_type": "markdown",
   "id": "891ecb2f-c0f1-4f0d-abc1-b0335c823344",
   "metadata": {},
   "source": [
    "my method, runtime 185ms, memory 43.18mb\n",
    "https://www.bilibili.com/read/cv8825859/"
   ]
  },
  {
   "cell_type": "code",
   "execution_count": null,
   "id": "ae6bc88e-d87e-4900-bfb0-375f8f061fd5",
   "metadata": {},
   "outputs": [],
   "source": [
    "class MyHashSet:\n",
    "\n",
    "    def __init__(self):\n",
    "        self.list = [0]*1000001\n",
    "\n",
    "    def add(self, key: int) -> None:\n",
    "        self.list[key] = 1\n",
    "\n",
    "    def remove(self, key: int) -> None:\n",
    "        self.list[key] = 0\n",
    "\n",
    "    def contains(self, key: int) -> bool:\n",
    "        return self.list[key]\n",
    "\n",
    "\n",
    "# Your MyHashSet object will be instantiated and called as such:\n",
    "# obj = MyHashSet()\n",
    "# obj.add(key)\n",
    "# obj.remove(key)\n",
    "# param_3 = obj.contains(key)"
   ]
  }
 ],
 "metadata": {
  "kernelspec": {
   "display_name": "Python 3 (ipykernel)",
   "language": "python",
   "name": "python3"
  },
  "language_info": {
   "codemirror_mode": {
    "name": "ipython",
    "version": 3
   },
   "file_extension": ".py",
   "mimetype": "text/x-python",
   "name": "python",
   "nbconvert_exporter": "python",
   "pygments_lexer": "ipython3",
   "version": "3.11.7"
  }
 },
 "nbformat": 4,
 "nbformat_minor": 5
}
