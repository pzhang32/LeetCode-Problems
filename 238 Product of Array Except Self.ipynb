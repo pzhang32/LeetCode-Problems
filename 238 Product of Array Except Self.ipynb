{
  "metadata": {
    "kernelspec": {
      "name": "python",
      "display_name": "Python (Pyodide)",
      "language": "python"
    },
    "language_info": {
      "codemirror_mode": {
        "name": "python",
        "version": 3
      },
      "file_extension": ".py",
      "mimetype": "text/x-python",
      "name": "python",
      "nbconvert_exporter": "python",
      "pygments_lexer": "ipython3",
      "version": "3.8"
    }
  },
  "nbformat_minor": 5,
  "nbformat": 4,
  "cells": [
    {
      "id": "bda44794-e05a-4a09-a3c7-65996cb5372c",
      "cell_type": "markdown",
      "source": "Given an integer array nums, return an array answer such that answer[i] is equal to the product of all the elements of nums except nums[i].\n\nThe product of any prefix or suffix of nums is guaranteed to fit in a 32-bit integer.\n\nYou must write an algorithm that runs in O(n) time and without using the division operation.\n\n \n\nExample 1:\n\nInput: nums = [1,2,3,4]\nOutput: [24,12,8,6]\n\nExample 2:\n\nInput: nums = [-1,1,0,-3,3]\nOutput: [0,0,9,0,0]",
      "metadata": {}
    },
    {
      "id": "d90e4647-7b2c-45e8-840f-675a402bffc6",
      "cell_type": "code",
      "source": "class Solution:\n    def productExceptSelf(self, nums: List[int]) -> List[int]:\n        result = [1]*len(nums)\n        \n        left = 1\n        for i in range(len(nums)):\n            result[i] = left\n            left *= nums[i]\n        \n        right = 1\n        for j in range(len(result)-1, -1, -1):\n            result[j] *= right\n            right *= nums[j]\n\n        return result",
      "metadata": {
        "trusted": true
      },
      "outputs": [],
      "execution_count": null
    }
  ]
}