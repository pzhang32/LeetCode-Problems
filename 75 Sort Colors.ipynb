{
  "metadata": {
    "kernelspec": {
      "name": "python",
      "display_name": "Python (Pyodide)",
      "language": "python"
    },
    "language_info": {
      "codemirror_mode": {
        "name": "python",
        "version": 3
      },
      "file_extension": ".py",
      "mimetype": "text/x-python",
      "name": "python",
      "nbconvert_exporter": "python",
      "pygments_lexer": "ipython3",
      "version": "3.8"
    }
  },
  "nbformat_minor": 5,
  "nbformat": 4,
  "cells": [
    {
      "id": "17686a24-4e5e-4a63-afb3-ecf4eb05a71d",
      "cell_type": "markdown",
      "source": "Given an array nums with n objects colored red, white, or blue, sort them in-place so that objects of the same color are adjacent, with the colors in the order red, white, and blue.\n\nWe will use the integers 0, 1, and 2 to represent the color red, white, and blue, respectively.\n\nYou must solve this problem without using the library's sort function.\n\nExample 1:\n\nInput: nums = [2,0,2,1,1,0]\nOutput: [0,0,1,1,2,2]\n\nExample 2:\n\nInput: nums = [2,0,1]\nOutput: [0,1,2]",
      "metadata": {}
    },
    {
      "id": "eae54c9d-349d-4202-9bf9-8b5275c72926",
      "cell_type": "markdown",
      "source": "method 1: time and space complexity is OK, but code needs to be refined",
      "metadata": {}
    },
    {
      "id": "45189523-8557-4e41-8555-be76729d20eb",
      "cell_type": "code",
      "source": "class Solution:\n    def sortColors(self, nums: List[int]) -> None:\n        \"\"\"\n        Do not return anything, modify nums in-place instead.\n        \"\"\"\n        if len(nums) == 1 or len(nums) == 0:\n            return\n        \n        red = 0\n        while red <= len(nums)-1 and nums[red] == 0:\n            red += 1\n        blue = len(nums) - 1\n        while blue >= 0 and nums[blue] == 2:\n            blue -= 1\n\n        white = red\n        if red > len(nums)-1 or blue < 0:\n            return\n        \n        while white <= blue:\n            if nums[white] == 0:\n                nums[red], nums[white] = nums[white], nums[red]\n                if nums[white] == 2:\n                    nums[blue], nums[white] = nums[white], nums[blue]\n                    blue -= 1\n                red += 1\n            elif nums[white] == 2:\n                while nums[blue] == 2:\n                    blue -= 1\n                if white >= blue:\n                    return\n                nums[blue], nums[white] = nums[white], nums[blue]\n                if nums[white] == 0:\n                    nums[red], nums[white] = nums[white], nums[red]\n                    red += 1\n                blue -= 1\n            white += 1\n\n\n",
      "metadata": {
        "trusted": true
      },
      "outputs": [],
      "execution_count": null
    },
    {
      "id": "8193c543-ec05-466e-9f7c-0fe2b3544566",
      "cell_type": "markdown",
      "source": "method 2",
      "metadata": {}
    },
    {
      "id": "52d05c94-e606-44a6-a342-e9053340c045",
      "cell_type": "code",
      "source": "class Solution:\n    def sortColors(self, nums: List[int]) -> None:\n        \"\"\"\n        Do not return anything, modify nums in-place instead.\n        \"\"\"\n        left = 0\n        right = len(nums)-1\n        current = 0\n        while current <= right:\n            if nums[current] == 0:\n                nums[left], nums[current] = nums[current], nums[left]\n                current += 1\n                left += 1\n            elif nums[current] == 1:\n                current += 1\n            elif nums[current] == 2:\n                nums[right], nums[current] = nums[current], nums[right]\n                right -= 1\n                ",
      "metadata": {
        "trusted": true
      },
      "outputs": [],
      "execution_count": null
    }
  ]
}