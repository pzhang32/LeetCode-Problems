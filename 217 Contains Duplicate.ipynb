{
 "cells": [
  {
   "cell_type": "markdown",
   "id": "8c68468e-9c1d-4832-b131-c62b960901a4",
   "metadata": {},
   "source": [
    "Given an integer array nums, return true if any value appears at least twice in the array, and return false if every element is distinct.\n",
    "\n",
    " \n",
    "\n",
    "Example 1:\n",
    "\n",
    "Input: nums = [1,2,3,1]\n",
    "Output: true\n",
    "\n",
    "Example 2:\n",
    "\n",
    "Input: nums = [1,2,3,4]\n",
    "Output: false\n",
    "\n",
    "Example 3:\n",
    "\n",
    "Input: nums = [1,1,1,3,3,4,3,2,4,2]\n",
    "Output: true\n"
   ]
  },
  {
   "cell_type": "markdown",
   "id": "88552a2b-b8d2-4814-bee3-a5e34c65fe60",
   "metadata": {},
   "source": [
    "my method 1 (two pointers), it will cause 'Time Limit Exceeded'"
   ]
  },
  {
   "cell_type": "code",
   "execution_count": null,
   "id": "fcda7408-2aa7-442d-be67-56c789412a80",
   "metadata": {},
   "outputs": [],
   "source": [
    "class Solution:\n",
    "    def containsDuplicate(self, nums: List[int]) -> bool:\n",
    "        for i in range(0, len(nums)-1):\n",
    "            for j in range(i+1, len(nums)):\n",
    "                if nums[i] == nums[j]:\n",
    "                    return True\n",
    "            \n",
    "        return False"
   ]
  },
  {
   "cell_type": "markdown",
   "id": "1db71ee3-f412-477d-bfca-6001ec308a12",
   "metadata": {},
   "source": [
    "my method 2 (hash table), runtime 437ms, memory 34.55mb"
   ]
  },
  {
   "cell_type": "code",
   "execution_count": null,
   "id": "dc11ad2c-6ea7-422b-b9b7-62a72265f987",
   "metadata": {},
   "outputs": [],
   "source": [
    "class Solution:\n",
    "    def containsDuplicate(self, nums: List[int]) -> bool:\n",
    "        mapping = {}\n",
    "        for key in nums:\n",
    "            mapping[key] = 0\n",
    "        for key in nums:\n",
    "            mapping[key] += 1\n",
    "        isTure = False\n",
    "        for key in mapping:\n",
    "            if mapping[key] > 1:\n",
    "                isTure = True\n",
    "                break\n",
    "        return isTure"
   ]
  },
  {
   "cell_type": "markdown",
   "id": "126f5751-d1f9-4497-82ab-55ea3d114be5",
   "metadata": {},
   "source": [
    "饲养员用多种方法解题217：\n",
    "https://www.bilibili.com/read/cv7950320/?from=articleDetail&spm_id_from=333.976.0.0"
   ]
  },
  {
   "cell_type": "markdown",
   "id": "4c11d10d-9454-473d-a688-5e6fdcd02b52",
   "metadata": {},
   "source": [
    "排序法 runtime 462ms, memory 28.24mb"
   ]
  },
  {
   "cell_type": "code",
   "execution_count": null,
   "id": "3af54961-d0df-477c-b572-ea03fe71523d",
   "metadata": {},
   "outputs": [],
   "source": [
    "class Solution:\n",
    "    def containsDuplicate(self, nums: List[int]) -> bool:\n",
    "        if len(nums)==0:\n",
    "            return False\n",
    "        nums.sort()\n",
    "        prev = nums[0]\n",
    "        for i in range(1, len(nums)):\n",
    "            if prev == nums[i]:\n",
    "                return True\n",
    "            else:\n",
    "                prev = nums[i]\n",
    "        return False"
   ]
  },
  {
   "cell_type": "markdown",
   "id": "8d14ce56-cafd-411e-8f31-8b592cc69611",
   "metadata": {},
   "source": [
    "哈希表法 runtime 464ms, memory 34.42mb"
   ]
  },
  {
   "cell_type": "code",
   "execution_count": null,
   "id": "0bd6e8a1-4168-42ee-8a41-406c30de960b",
   "metadata": {},
   "outputs": [],
   "source": [
    "class Solution:\n",
    "    def containsDuplicate(self, nums: List[int]) -> bool:\n",
    "        if len(nums)==0:\n",
    "            return False\n",
    "        mapping = {}\n",
    "        for num in nums:\n",
    "            if num not in mapping:\n",
    "                mapping[num] = 1\n",
    "            else:\n",
    "                mapping[num] = mapping.get(num) + 1\n",
    "        for v in mapping.values():\n",
    "            if v > 1:\n",
    "                return True\n",
    "        return False"
   ]
  },
  {
   "cell_type": "code",
   "execution_count": null,
   "id": "23df5224-de31-4686-b596-370a3dac2212",
   "metadata": {},
   "outputs": [],
   "source": [
    "# 在上述方法上改进的方法，效率更高，runtime 419ms, memory 34.64mb\n",
    "\n",
    "class Solution:\n",
    "    def containsDuplicate(self, nums: List[int]) -> bool:\n",
    "        if len(nums)==0:\n",
    "            return False\n",
    "        mapping = {}\n",
    "        for num in nums:\n",
    "            if num not in mapping:\n",
    "                mapping[num] = 1\n",
    "            else:\n",
    "                mapping[num] += 1\n",
    "                return True\n",
    "        return False"
   ]
  },
  {
   "cell_type": "markdown",
   "id": "0f8c4b28-fe9a-4598-b698-37f2898e55f2",
   "metadata": {},
   "source": [
    "method 3 (set) runtime 429ms, memory 31.94mb"
   ]
  },
  {
   "cell_type": "code",
   "execution_count": null,
   "id": "84f97aa6-6e7c-4e4f-b319-b661b0f5f5aa",
   "metadata": {},
   "outputs": [],
   "source": [
    "class Solution:\n",
    "    def containsDuplicate(self, nums: List[int]) -> bool:\n",
    "        s = set(nums)\n",
    "        if len(nums) > len(s):\n",
    "            return True\n",
    "        else:\n",
    "            return False"
   ]
  }
 ],
 "metadata": {
  "kernelspec": {
   "display_name": "Python 3 (ipykernel)",
   "language": "python",
   "name": "python3"
  },
  "language_info": {
   "codemirror_mode": {
    "name": "ipython",
    "version": 3
   },
   "file_extension": ".py",
   "mimetype": "text/x-python",
   "name": "python",
   "nbconvert_exporter": "python",
   "pygments_lexer": "ipython3",
   "version": "3.11.7"
  }
 },
 "nbformat": 4,
 "nbformat_minor": 5
}
